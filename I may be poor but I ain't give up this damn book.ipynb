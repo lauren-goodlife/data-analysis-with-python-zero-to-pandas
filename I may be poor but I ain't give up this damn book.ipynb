{
 "cells": [
  {
   "cell_type": "markdown",
   "id": "72f9297a",
   "metadata": {},
   "source": [
    "# I may be poor but I ain't give up this damn book"
   ]
  },
  {
   "cell_type": "markdown",
   "id": "1c1da631",
   "metadata": {},
   "source": [
    "## An analysis about people reading habits"
   ]
  },
  {
   "cell_type": "markdown",
   "id": "fe5a017e",
   "metadata": {},
   "source": [
    "### Dataset source\n",
    "Kaggle.com - \"Reading habit Dataset\" by Overfitted"
   ]
  },
  {
   "cell_type": "markdown",
   "id": "20186b6c",
   "metadata": {},
   "source": [
    "#### Aim of this analysis\n",
    "\n",
    "Discover peculiar information and insights regarding people's reading habits using data analysis. In particular, we'll try to answer these questions:\n",
    "\n",
    "* Is there a difference between sex? Do females read more than males or viceversa?\n",
    "* What age (range) reads the most? And why (optional)\n",
    "* Among which category audiobooks are popular?\n",
    "* Are books a luxury among those who earn the minimum?\n",
    "* Among the most avid readers (50+ books) which percentage actually buy books?"
   ]
  },
  {
   "cell_type": "markdown",
   "id": "daa93533",
   "metadata": {},
   "source": [
    "----"
   ]
  },
  {
   "cell_type": "markdown",
   "id": "6ead917b",
   "metadata": {},
   "source": [
    "#### Importing important stuff"
   ]
  },
  {
   "cell_type": "code",
   "execution_count": 400,
   "id": "77fd7441",
   "metadata": {},
   "outputs": [],
   "source": [
    "import numpy as np\n",
    "import pandas as pd\n",
    "import math\n",
    "import unicodedata\n",
    "from urllib.request import urlretrieve \n",
    "%matplotlib inline\n",
    "\n",
    "import matplotlib.pyplot as plt\n",
    "plt.rcParams['font.size'] = 14\n",
    "plt.rcParams['figure.figsize'] = (9, 5)\n",
    "plt.rcParams['figure.facecolor'] = '#00000000'\n",
    "\n",
    "import seaborn as sns\n",
    "sns.set_style('darkgrid')\n",
    "\n"
   ]
  },
  {
   "cell_type": "markdown",
   "id": "81d6d8d8",
   "metadata": {},
   "source": [
    "#### Importing our dataset"
   ]
  },
  {
   "cell_type": "code",
   "execution_count": 401,
   "id": "e9228e0e",
   "metadata": {},
   "outputs": [],
   "source": [
    "readers_df = pd.read_csv(r'\\Users\\loren\\Downloads\\dataset.csv')"
   ]
  },
  {
   "cell_type": "code",
   "execution_count": 402,
   "id": "e2909718",
   "metadata": {
    "scrolled": true
   },
   "outputs": [
    {
     "data": {
      "text/html": [
       "<div>\n",
       "<style scoped>\n",
       "    .dataframe tbody tr th:only-of-type {\n",
       "        vertical-align: middle;\n",
       "    }\n",
       "\n",
       "    .dataframe tbody tr th {\n",
       "        vertical-align: top;\n",
       "    }\n",
       "\n",
       "    .dataframe thead th {\n",
       "        text-align: right;\n",
       "    }\n",
       "</style>\n",
       "<table border=\"1\" class=\"dataframe tex2jax_ignore\">\n",
       "  <thead>\n",
       "    <tr style=\"text-align: right;\">\n",
       "      <th></th>\n",
       "      <th>Age</th>\n",
       "      <th>Sex</th>\n",
       "      <th>Race</th>\n",
       "      <th>Marital status?</th>\n",
       "      <th>Education</th>\n",
       "      <th>Employement</th>\n",
       "      <th>Incomes</th>\n",
       "      <th>How many books did you read during last 12months?</th>\n",
       "      <th>Read any printed books during last 12months?</th>\n",
       "      <th>Read any audiobooks during last 12months?</th>\n",
       "      <th>Read any e-books during last 12months?</th>\n",
       "      <th>Last book you read, you…</th>\n",
       "      <th>Do you happen to read any daily news or newspapers?</th>\n",
       "      <th>Do you happen to read any magazines or journals?</th>\n",
       "    </tr>\n",
       "  </thead>\n",
       "  <tbody>\n",
       "    <tr>\n",
       "      <th>0</th>\n",
       "      <td>66</td>\n",
       "      <td>Male</td>\n",
       "      <td>Refused</td>\n",
       "      <td>Divorced</td>\n",
       "      <td>College graduate</td>\n",
       "      <td>Retired</td>\n",
       "      <td>$20,000 to under $30,000</td>\n",
       "      <td>97</td>\n",
       "      <td>Yes</td>\n",
       "      <td>No</td>\n",
       "      <td>Yes</td>\n",
       "      <td>Purchased the book</td>\n",
       "      <td>No</td>\n",
       "      <td>Yes</td>\n",
       "    </tr>\n",
       "    <tr>\n",
       "      <th>1</th>\n",
       "      <td>46</td>\n",
       "      <td>Male</td>\n",
       "      <td>Native American/American Indian</td>\n",
       "      <td>Married</td>\n",
       "      <td>High school graduate</td>\n",
       "      <td>Employed full-time</td>\n",
       "      <td>Less than $10,000</td>\n",
       "      <td>97</td>\n",
       "      <td>Yes</td>\n",
       "      <td>Yes</td>\n",
       "      <td>Yes</td>\n",
       "      <td>Purchased the book</td>\n",
       "      <td>Yes</td>\n",
       "      <td>Yes</td>\n",
       "    </tr>\n",
       "    <tr>\n",
       "      <th>2</th>\n",
       "      <td>32</td>\n",
       "      <td>Male</td>\n",
       "      <td>Mixed race</td>\n",
       "      <td>Never been married</td>\n",
       "      <td>High school graduate</td>\n",
       "      <td>Employed full-time</td>\n",
       "      <td>Less than $10,000</td>\n",
       "      <td>97</td>\n",
       "      <td>No</td>\n",
       "      <td>Yes</td>\n",
       "      <td>Yes</td>\n",
       "      <td>Borrowed the book from a friend or family member</td>\n",
       "      <td>Yes</td>\n",
       "      <td>Yes</td>\n",
       "    </tr>\n",
       "    <tr>\n",
       "      <th>3</th>\n",
       "      <td>27</td>\n",
       "      <td>Male</td>\n",
       "      <td>Mixed race</td>\n",
       "      <td>Married</td>\n",
       "      <td>High school graduate</td>\n",
       "      <td>Employed full-time</td>\n",
       "      <td>$40,000 to under $50,000</td>\n",
       "      <td>97</td>\n",
       "      <td>Yes</td>\n",
       "      <td>No</td>\n",
       "      <td>Yes</td>\n",
       "      <td>Borrowed the book from a library</td>\n",
       "      <td>Yes</td>\n",
       "      <td>No</td>\n",
       "    </tr>\n",
       "    <tr>\n",
       "      <th>4</th>\n",
       "      <td>16</td>\n",
       "      <td>Female</td>\n",
       "      <td>Mixed race</td>\n",
       "      <td>Never been married</td>\n",
       "      <td>High school incomplete</td>\n",
       "      <td>Employed part-time</td>\n",
       "      <td>$10,000 to under $20,000</td>\n",
       "      <td>97</td>\n",
       "      <td>Yes</td>\n",
       "      <td>Yes</td>\n",
       "      <td>No</td>\n",
       "      <td>Purchased the book</td>\n",
       "      <td>Yes</td>\n",
       "      <td>No</td>\n",
       "    </tr>\n",
       "    <tr>\n",
       "      <th>...</th>\n",
       "      <td>...</td>\n",
       "      <td>...</td>\n",
       "      <td>...</td>\n",
       "      <td>...</td>\n",
       "      <td>...</td>\n",
       "      <td>...</td>\n",
       "      <td>...</td>\n",
       "      <td>...</td>\n",
       "      <td>...</td>\n",
       "      <td>...</td>\n",
       "      <td>...</td>\n",
       "      <td>...</td>\n",
       "      <td>...</td>\n",
       "      <td>...</td>\n",
       "    </tr>\n",
       "    <tr>\n",
       "      <th>2827</th>\n",
       "      <td>18</td>\n",
       "      <td>Male</td>\n",
       "      <td>White</td>\n",
       "      <td>Never been married</td>\n",
       "      <td>High school graduate</td>\n",
       "      <td>Employed part-time</td>\n",
       "      <td>$75,000 to under $100,000</td>\n",
       "      <td>0</td>\n",
       "      <td>NaN</td>\n",
       "      <td>NaN</td>\n",
       "      <td>NaN</td>\n",
       "      <td>NaN</td>\n",
       "      <td>Yes</td>\n",
       "      <td>Yes</td>\n",
       "    </tr>\n",
       "    <tr>\n",
       "      <th>2828</th>\n",
       "      <td>17</td>\n",
       "      <td>Male</td>\n",
       "      <td>White</td>\n",
       "      <td>Never been married</td>\n",
       "      <td>High school incomplete</td>\n",
       "      <td>Employed part-time</td>\n",
       "      <td>$30,000 to under $40,000</td>\n",
       "      <td>0</td>\n",
       "      <td>NaN</td>\n",
       "      <td>NaN</td>\n",
       "      <td>NaN</td>\n",
       "      <td>NaN</td>\n",
       "      <td>Yes</td>\n",
       "      <td>No</td>\n",
       "    </tr>\n",
       "    <tr>\n",
       "      <th>2829</th>\n",
       "      <td>17</td>\n",
       "      <td>Female</td>\n",
       "      <td>White</td>\n",
       "      <td>Never been married</td>\n",
       "      <td>High school incomplete</td>\n",
       "      <td>Not employed for pay</td>\n",
       "      <td>9$100,000 to under $150,000</td>\n",
       "      <td>0</td>\n",
       "      <td>NaN</td>\n",
       "      <td>NaN</td>\n",
       "      <td>NaN</td>\n",
       "      <td>NaN</td>\n",
       "      <td>No</td>\n",
       "      <td>Yes</td>\n",
       "    </tr>\n",
       "    <tr>\n",
       "      <th>2830</th>\n",
       "      <td>16</td>\n",
       "      <td>Male</td>\n",
       "      <td>White</td>\n",
       "      <td>Never been married</td>\n",
       "      <td>High school graduate</td>\n",
       "      <td>Not employed for pay</td>\n",
       "      <td>9$100,000 to under $150,000</td>\n",
       "      <td>0</td>\n",
       "      <td>NaN</td>\n",
       "      <td>NaN</td>\n",
       "      <td>NaN</td>\n",
       "      <td>NaN</td>\n",
       "      <td>No</td>\n",
       "      <td>No</td>\n",
       "    </tr>\n",
       "    <tr>\n",
       "      <th>2831</th>\n",
       "      <td>16</td>\n",
       "      <td>Male</td>\n",
       "      <td>White</td>\n",
       "      <td>Never been married</td>\n",
       "      <td>Don’t know</td>\n",
       "      <td>Not employed for pay</td>\n",
       "      <td>Refused</td>\n",
       "      <td>0</td>\n",
       "      <td>NaN</td>\n",
       "      <td>NaN</td>\n",
       "      <td>NaN</td>\n",
       "      <td>NaN</td>\n",
       "      <td>No</td>\n",
       "      <td>No</td>\n",
       "    </tr>\n",
       "  </tbody>\n",
       "</table>\n",
       "<p>2832 rows × 14 columns</p>\n",
       "</div>"
      ],
      "text/plain": [
       "      Age     Sex                             Race     Marital status?  \\\n",
       "0      66    Male                          Refused            Divorced   \n",
       "1      46    Male  Native American/American Indian             Married   \n",
       "2      32    Male                       Mixed race  Never been married   \n",
       "3      27    Male                       Mixed race             Married   \n",
       "4      16  Female                       Mixed race  Never been married   \n",
       "...   ...     ...                              ...                 ...   \n",
       "2827   18    Male                            White  Never been married   \n",
       "2828   17    Male                            White  Never been married   \n",
       "2829   17  Female                            White  Never been married   \n",
       "2830   16    Male                            White  Never been married   \n",
       "2831   16    Male                            White  Never been married   \n",
       "\n",
       "                   Education           Employement  \\\n",
       "0           College graduate               Retired   \n",
       "1       High school graduate    Employed full-time   \n",
       "2       High school graduate    Employed full-time   \n",
       "3       High school graduate    Employed full-time   \n",
       "4     High school incomplete    Employed part-time   \n",
       "...                      ...                   ...   \n",
       "2827    High school graduate    Employed part-time   \n",
       "2828  High school incomplete    Employed part-time   \n",
       "2829  High school incomplete  Not employed for pay   \n",
       "2830    High school graduate  Not employed for pay   \n",
       "2831              Don’t know  Not employed for pay   \n",
       "\n",
       "                          Incomes  \\\n",
       "0        $20,000 to under $30,000   \n",
       "1               Less than $10,000   \n",
       "2               Less than $10,000   \n",
       "3        $40,000 to under $50,000   \n",
       "4        $10,000 to under $20,000   \n",
       "...                           ...   \n",
       "2827    $75,000 to under $100,000   \n",
       "2828     $30,000 to under $40,000   \n",
       "2829  9$100,000 to under $150,000   \n",
       "2830  9$100,000 to under $150,000   \n",
       "2831                      Refused   \n",
       "\n",
       "      How many books did you read during last 12months?  \\\n",
       "0                                                    97   \n",
       "1                                                    97   \n",
       "2                                                    97   \n",
       "3                                                    97   \n",
       "4                                                    97   \n",
       "...                                                 ...   \n",
       "2827                                                  0   \n",
       "2828                                                  0   \n",
       "2829                                                  0   \n",
       "2830                                                  0   \n",
       "2831                                                  0   \n",
       "\n",
       "     Read any printed books during last 12months?  \\\n",
       "0                                             Yes   \n",
       "1                                             Yes   \n",
       "2                                              No   \n",
       "3                                             Yes   \n",
       "4                                             Yes   \n",
       "...                                           ...   \n",
       "2827                                          NaN   \n",
       "2828                                          NaN   \n",
       "2829                                          NaN   \n",
       "2830                                          NaN   \n",
       "2831                                          NaN   \n",
       "\n",
       "     Read any audiobooks during last 12months?  \\\n",
       "0                                           No   \n",
       "1                                          Yes   \n",
       "2                                          Yes   \n",
       "3                                           No   \n",
       "4                                          Yes   \n",
       "...                                        ...   \n",
       "2827                                       NaN   \n",
       "2828                                       NaN   \n",
       "2829                                       NaN   \n",
       "2830                                       NaN   \n",
       "2831                                       NaN   \n",
       "\n",
       "     Read any e-books during last 12months?  \\\n",
       "0                                       Yes   \n",
       "1                                       Yes   \n",
       "2                                       Yes   \n",
       "3                                       Yes   \n",
       "4                                        No   \n",
       "...                                     ...   \n",
       "2827                                    NaN   \n",
       "2828                                    NaN   \n",
       "2829                                    NaN   \n",
       "2830                                    NaN   \n",
       "2831                                    NaN   \n",
       "\n",
       "                              Last book you read, you…  \\\n",
       "0                                   Purchased the book   \n",
       "1                                   Purchased the book   \n",
       "2     Borrowed the book from a friend or family member   \n",
       "3                     Borrowed the book from a library   \n",
       "4                                   Purchased the book   \n",
       "...                                                ...   \n",
       "2827                                               NaN   \n",
       "2828                                               NaN   \n",
       "2829                                               NaN   \n",
       "2830                                               NaN   \n",
       "2831                                               NaN   \n",
       "\n",
       "     Do you happen to read any daily news or newspapers?  \\\n",
       "0                                                    No    \n",
       "1                                                   Yes    \n",
       "2                                                   Yes    \n",
       "3                                                   Yes    \n",
       "4                                                   Yes    \n",
       "...                                                 ...    \n",
       "2827                                                Yes    \n",
       "2828                                                Yes    \n",
       "2829                                                 No    \n",
       "2830                                                 No    \n",
       "2831                                                 No    \n",
       "\n",
       "     Do you happen to read any magazines or journals?  \n",
       "0                                                 Yes  \n",
       "1                                                 Yes  \n",
       "2                                                 Yes  \n",
       "3                                                  No  \n",
       "4                                                  No  \n",
       "...                                               ...  \n",
       "2827                                              Yes  \n",
       "2828                                               No  \n",
       "2829                                              Yes  \n",
       "2830                                               No  \n",
       "2831                                               No  \n",
       "\n",
       "[2832 rows x 14 columns]"
      ]
     },
     "execution_count": 402,
     "metadata": {},
     "output_type": "execute_result"
    }
   ],
   "source": [
    "readers_df"
   ]
  },
  {
   "cell_type": "code",
   "execution_count": 403,
   "id": "ef8672dd",
   "metadata": {},
   "outputs": [
    {
     "name": "stdout",
     "output_type": "stream",
     "text": [
      "<class 'pandas.core.frame.DataFrame'>\n",
      "RangeIndex: 2832 entries, 0 to 2831\n",
      "Data columns (total 14 columns):\n",
      " #   Column                                               Non-Null Count  Dtype \n",
      "---  ------                                               --------------  ----- \n",
      " 0   Age                                                  2832 non-null   int64 \n",
      " 1   Sex                                                  2832 non-null   object\n",
      " 2   Race                                                 2832 non-null   object\n",
      " 3   Marital status?                                      2832 non-null   object\n",
      " 4   Education                                            2832 non-null   object\n",
      " 5   Employement                                          2832 non-null   object\n",
      " 6   Incomes                                              2832 non-null   object\n",
      " 7   How many books did you read during last 12months?    2832 non-null   int64 \n",
      " 8   Read any printed books during last 12months?         2442 non-null   object\n",
      " 9   Read any audiobooks during last 12months?            2442 non-null   object\n",
      " 10  Read any e-books during last 12months?               2442 non-null   object\n",
      " 11  Last book you read, you…                             2442 non-null   object\n",
      " 12  Do you happen to read any daily news or newspapers?  2832 non-null   object\n",
      " 13  Do you happen to read any magazines or journals?     2832 non-null   object\n",
      "dtypes: int64(2), object(12)\n",
      "memory usage: 309.9+ KB\n"
     ]
    }
   ],
   "source": [
    "readers_df.info()"
   ]
  },
  {
   "cell_type": "markdown",
   "id": "5c694a96",
   "metadata": {},
   "source": [
    "## Data preparation & cleaning"
   ]
  },
  {
   "cell_type": "markdown",
   "id": "fda3a709",
   "metadata": {},
   "source": [
    "#### Dropping columns that we're not using"
   ]
  },
  {
   "cell_type": "code",
   "execution_count": 404,
   "id": "ae46be0c",
   "metadata": {},
   "outputs": [],
   "source": [
    "df = readers_df.drop(readers_df.columns[[3, 8, 10, 12, 13 ]],axis = 1)"
   ]
  },
  {
   "cell_type": "markdown",
   "id": "7073b40e",
   "metadata": {},
   "source": [
    "#### Renaming columns better"
   ]
  },
  {
   "cell_type": "code",
   "execution_count": 405,
   "id": "cfe62add",
   "metadata": {},
   "outputs": [],
   "source": [
    "df = df.rename(columns={\"How many books did you read during last 12months?\": \"books_last_12mo\", \n",
    "                       \"Read any audiobooks during last 12months?\": \"audiobook_last_12mo\", \n",
    "                       \"Last book you read, you…\": \"purchased_borrowed\",\n",
    "                       \"Age\": \"age\",\n",
    "                       \"Sex\": \"sex\",\n",
    "                       \"Race\": \"race\",\n",
    "                        \"Education\": \"education\",\n",
    "                       \"Employement\": \"employment\",\n",
    "                       \"Incomes\" : \"incomes\"})"
   ]
  },
  {
   "cell_type": "markdown",
   "id": "16d75f08",
   "metadata": {},
   "source": [
    "#### Fixing \"Incomes\" formatting"
   ]
  },
  {
   "cell_type": "code",
   "execution_count": 406,
   "id": "2868dbf8",
   "metadata": {},
   "outputs": [],
   "source": [
    "pd.set_option('display.html.use_mathjax', False)"
   ]
  },
  {
   "cell_type": "code",
   "execution_count": 407,
   "id": "dcdf2395",
   "metadata": {},
   "outputs": [
    {
     "data": {
      "text/html": [
       "<div>\n",
       "<style scoped>\n",
       "    .dataframe tbody tr th:only-of-type {\n",
       "        vertical-align: middle;\n",
       "    }\n",
       "\n",
       "    .dataframe tbody tr th {\n",
       "        vertical-align: top;\n",
       "    }\n",
       "\n",
       "    .dataframe thead th {\n",
       "        text-align: right;\n",
       "    }\n",
       "</style>\n",
       "<table border=\"1\" class=\"dataframe tex2jax_ignore\">\n",
       "  <thead>\n",
       "    <tr style=\"text-align: right;\">\n",
       "      <th></th>\n",
       "      <th>age</th>\n",
       "      <th>sex</th>\n",
       "      <th>race</th>\n",
       "      <th>education</th>\n",
       "      <th>employment</th>\n",
       "      <th>incomes</th>\n",
       "      <th>books_last_12mo</th>\n",
       "      <th>audiobook_last_12mo</th>\n",
       "      <th>purchased_borrowed</th>\n",
       "    </tr>\n",
       "  </thead>\n",
       "  <tbody>\n",
       "    <tr>\n",
       "      <th>0</th>\n",
       "      <td>66</td>\n",
       "      <td>Male</td>\n",
       "      <td>Refused</td>\n",
       "      <td>College graduate</td>\n",
       "      <td>Retired</td>\n",
       "      <td>$20,000 to under $30,000</td>\n",
       "      <td>97</td>\n",
       "      <td>No</td>\n",
       "      <td>Purchased the book</td>\n",
       "    </tr>\n",
       "    <tr>\n",
       "      <th>1</th>\n",
       "      <td>46</td>\n",
       "      <td>Male</td>\n",
       "      <td>Native American/American Indian</td>\n",
       "      <td>High school graduate</td>\n",
       "      <td>Employed full-time</td>\n",
       "      <td>Less than $10,000</td>\n",
       "      <td>97</td>\n",
       "      <td>Yes</td>\n",
       "      <td>Purchased the book</td>\n",
       "    </tr>\n",
       "    <tr>\n",
       "      <th>2</th>\n",
       "      <td>32</td>\n",
       "      <td>Male</td>\n",
       "      <td>Mixed race</td>\n",
       "      <td>High school graduate</td>\n",
       "      <td>Employed full-time</td>\n",
       "      <td>Less than $10,000</td>\n",
       "      <td>97</td>\n",
       "      <td>Yes</td>\n",
       "      <td>Borrowed the book from a friend or family member</td>\n",
       "    </tr>\n",
       "    <tr>\n",
       "      <th>3</th>\n",
       "      <td>27</td>\n",
       "      <td>Male</td>\n",
       "      <td>Mixed race</td>\n",
       "      <td>High school graduate</td>\n",
       "      <td>Employed full-time</td>\n",
       "      <td>$40,000 to under $50,000</td>\n",
       "      <td>97</td>\n",
       "      <td>No</td>\n",
       "      <td>Borrowed the book from a library</td>\n",
       "    </tr>\n",
       "    <tr>\n",
       "      <th>4</th>\n",
       "      <td>16</td>\n",
       "      <td>Female</td>\n",
       "      <td>Mixed race</td>\n",
       "      <td>High school incomplete</td>\n",
       "      <td>Employed part-time</td>\n",
       "      <td>$10,000 to under $20,000</td>\n",
       "      <td>97</td>\n",
       "      <td>Yes</td>\n",
       "      <td>Purchased the book</td>\n",
       "    </tr>\n",
       "    <tr>\n",
       "      <th>...</th>\n",
       "      <td>...</td>\n",
       "      <td>...</td>\n",
       "      <td>...</td>\n",
       "      <td>...</td>\n",
       "      <td>...</td>\n",
       "      <td>...</td>\n",
       "      <td>...</td>\n",
       "      <td>...</td>\n",
       "      <td>...</td>\n",
       "    </tr>\n",
       "    <tr>\n",
       "      <th>2827</th>\n",
       "      <td>18</td>\n",
       "      <td>Male</td>\n",
       "      <td>White</td>\n",
       "      <td>High school graduate</td>\n",
       "      <td>Employed part-time</td>\n",
       "      <td>$75,000 to under $100,000</td>\n",
       "      <td>0</td>\n",
       "      <td>NaN</td>\n",
       "      <td>NaN</td>\n",
       "    </tr>\n",
       "    <tr>\n",
       "      <th>2828</th>\n",
       "      <td>17</td>\n",
       "      <td>Male</td>\n",
       "      <td>White</td>\n",
       "      <td>High school incomplete</td>\n",
       "      <td>Employed part-time</td>\n",
       "      <td>$30,000 to under $40,000</td>\n",
       "      <td>0</td>\n",
       "      <td>NaN</td>\n",
       "      <td>NaN</td>\n",
       "    </tr>\n",
       "    <tr>\n",
       "      <th>2829</th>\n",
       "      <td>17</td>\n",
       "      <td>Female</td>\n",
       "      <td>White</td>\n",
       "      <td>High school incomplete</td>\n",
       "      <td>Not employed for pay</td>\n",
       "      <td>9$100,000 to under $150,000</td>\n",
       "      <td>0</td>\n",
       "      <td>NaN</td>\n",
       "      <td>NaN</td>\n",
       "    </tr>\n",
       "    <tr>\n",
       "      <th>2830</th>\n",
       "      <td>16</td>\n",
       "      <td>Male</td>\n",
       "      <td>White</td>\n",
       "      <td>High school graduate</td>\n",
       "      <td>Not employed for pay</td>\n",
       "      <td>9$100,000 to under $150,000</td>\n",
       "      <td>0</td>\n",
       "      <td>NaN</td>\n",
       "      <td>NaN</td>\n",
       "    </tr>\n",
       "    <tr>\n",
       "      <th>2831</th>\n",
       "      <td>16</td>\n",
       "      <td>Male</td>\n",
       "      <td>White</td>\n",
       "      <td>Don’t know</td>\n",
       "      <td>Not employed for pay</td>\n",
       "      <td>Refused</td>\n",
       "      <td>0</td>\n",
       "      <td>NaN</td>\n",
       "      <td>NaN</td>\n",
       "    </tr>\n",
       "  </tbody>\n",
       "</table>\n",
       "<p>2832 rows × 9 columns</p>\n",
       "</div>"
      ],
      "text/plain": [
       "      age     sex                             race               education  \\\n",
       "0      66    Male                          Refused        College graduate   \n",
       "1      46    Male  Native American/American Indian    High school graduate   \n",
       "2      32    Male                       Mixed race    High school graduate   \n",
       "3      27    Male                       Mixed race    High school graduate   \n",
       "4      16  Female                       Mixed race  High school incomplete   \n",
       "...   ...     ...                              ...                     ...   \n",
       "2827   18    Male                            White    High school graduate   \n",
       "2828   17    Male                            White  High school incomplete   \n",
       "2829   17  Female                            White  High school incomplete   \n",
       "2830   16    Male                            White    High school graduate   \n",
       "2831   16    Male                            White              Don’t know   \n",
       "\n",
       "                employment                      incomes  books_last_12mo  \\\n",
       "0                  Retired     $20,000 to under $30,000               97   \n",
       "1       Employed full-time            Less than $10,000               97   \n",
       "2       Employed full-time            Less than $10,000               97   \n",
       "3       Employed full-time     $40,000 to under $50,000               97   \n",
       "4       Employed part-time     $10,000 to under $20,000               97   \n",
       "...                    ...                          ...              ...   \n",
       "2827    Employed part-time    $75,000 to under $100,000                0   \n",
       "2828    Employed part-time     $30,000 to under $40,000                0   \n",
       "2829  Not employed for pay  9$100,000 to under $150,000                0   \n",
       "2830  Not employed for pay  9$100,000 to under $150,000                0   \n",
       "2831  Not employed for pay                      Refused                0   \n",
       "\n",
       "     audiobook_last_12mo                                purchased_borrowed  \n",
       "0                     No                                Purchased the book  \n",
       "1                    Yes                                Purchased the book  \n",
       "2                    Yes  Borrowed the book from a friend or family member  \n",
       "3                     No                  Borrowed the book from a library  \n",
       "4                    Yes                                Purchased the book  \n",
       "...                  ...                                               ...  \n",
       "2827                 NaN                                               NaN  \n",
       "2828                 NaN                                               NaN  \n",
       "2829                 NaN                                               NaN  \n",
       "2830                 NaN                                               NaN  \n",
       "2831                 NaN                                               NaN  \n",
       "\n",
       "[2832 rows x 9 columns]"
      ]
     },
     "execution_count": 407,
     "metadata": {},
     "output_type": "execute_result"
    }
   ],
   "source": [
    "df"
   ]
  },
  {
   "cell_type": "markdown",
   "id": "bba4959c",
   "metadata": {},
   "source": [
    "#### Checking out NaN values"
   ]
  },
  {
   "cell_type": "code",
   "execution_count": 408,
   "id": "470b9f9d",
   "metadata": {},
   "outputs": [
    {
     "data": {
      "text/html": [
       "<div>\n",
       "<style scoped>\n",
       "    .dataframe tbody tr th:only-of-type {\n",
       "        vertical-align: middle;\n",
       "    }\n",
       "\n",
       "    .dataframe tbody tr th {\n",
       "        vertical-align: top;\n",
       "    }\n",
       "\n",
       "    .dataframe thead th {\n",
       "        text-align: right;\n",
       "    }\n",
       "</style>\n",
       "<table border=\"1\" class=\"dataframe tex2jax_ignore\">\n",
       "  <thead>\n",
       "    <tr style=\"text-align: right;\">\n",
       "      <th></th>\n",
       "      <th>age</th>\n",
       "      <th>sex</th>\n",
       "      <th>race</th>\n",
       "      <th>education</th>\n",
       "      <th>employment</th>\n",
       "      <th>incomes</th>\n",
       "      <th>books_last_12mo</th>\n",
       "      <th>audiobook_last_12mo</th>\n",
       "      <th>purchased_borrowed</th>\n",
       "    </tr>\n",
       "  </thead>\n",
       "  <tbody>\n",
       "    <tr>\n",
       "      <th>0</th>\n",
       "      <td>66</td>\n",
       "      <td>Male</td>\n",
       "      <td>Refused</td>\n",
       "      <td>College graduate</td>\n",
       "      <td>Retired</td>\n",
       "      <td>$20,000 to under $30,000</td>\n",
       "      <td>97</td>\n",
       "      <td>No</td>\n",
       "      <td>Purchased the book</td>\n",
       "    </tr>\n",
       "    <tr>\n",
       "      <th>1</th>\n",
       "      <td>46</td>\n",
       "      <td>Male</td>\n",
       "      <td>Native American/American Indian</td>\n",
       "      <td>High school graduate</td>\n",
       "      <td>Employed full-time</td>\n",
       "      <td>Less than $10,000</td>\n",
       "      <td>97</td>\n",
       "      <td>Yes</td>\n",
       "      <td>Purchased the book</td>\n",
       "    </tr>\n",
       "    <tr>\n",
       "      <th>2</th>\n",
       "      <td>32</td>\n",
       "      <td>Male</td>\n",
       "      <td>Mixed race</td>\n",
       "      <td>High school graduate</td>\n",
       "      <td>Employed full-time</td>\n",
       "      <td>Less than $10,000</td>\n",
       "      <td>97</td>\n",
       "      <td>Yes</td>\n",
       "      <td>Borrowed the book from a friend or family member</td>\n",
       "    </tr>\n",
       "    <tr>\n",
       "      <th>3</th>\n",
       "      <td>27</td>\n",
       "      <td>Male</td>\n",
       "      <td>Mixed race</td>\n",
       "      <td>High school graduate</td>\n",
       "      <td>Employed full-time</td>\n",
       "      <td>$40,000 to under $50,000</td>\n",
       "      <td>97</td>\n",
       "      <td>No</td>\n",
       "      <td>Borrowed the book from a library</td>\n",
       "    </tr>\n",
       "    <tr>\n",
       "      <th>4</th>\n",
       "      <td>16</td>\n",
       "      <td>Female</td>\n",
       "      <td>Mixed race</td>\n",
       "      <td>High school incomplete</td>\n",
       "      <td>Employed part-time</td>\n",
       "      <td>$10,000 to under $20,000</td>\n",
       "      <td>97</td>\n",
       "      <td>Yes</td>\n",
       "      <td>Purchased the book</td>\n",
       "    </tr>\n",
       "    <tr>\n",
       "      <th>...</th>\n",
       "      <td>...</td>\n",
       "      <td>...</td>\n",
       "      <td>...</td>\n",
       "      <td>...</td>\n",
       "      <td>...</td>\n",
       "      <td>...</td>\n",
       "      <td>...</td>\n",
       "      <td>...</td>\n",
       "      <td>...</td>\n",
       "    </tr>\n",
       "    <tr>\n",
       "      <th>2827</th>\n",
       "      <td>18</td>\n",
       "      <td>Male</td>\n",
       "      <td>White</td>\n",
       "      <td>High school graduate</td>\n",
       "      <td>Employed part-time</td>\n",
       "      <td>$75,000 to under $100,000</td>\n",
       "      <td>0</td>\n",
       "      <td>NaN</td>\n",
       "      <td>NaN</td>\n",
       "    </tr>\n",
       "    <tr>\n",
       "      <th>2828</th>\n",
       "      <td>17</td>\n",
       "      <td>Male</td>\n",
       "      <td>White</td>\n",
       "      <td>High school incomplete</td>\n",
       "      <td>Employed part-time</td>\n",
       "      <td>$30,000 to under $40,000</td>\n",
       "      <td>0</td>\n",
       "      <td>NaN</td>\n",
       "      <td>NaN</td>\n",
       "    </tr>\n",
       "    <tr>\n",
       "      <th>2829</th>\n",
       "      <td>17</td>\n",
       "      <td>Female</td>\n",
       "      <td>White</td>\n",
       "      <td>High school incomplete</td>\n",
       "      <td>Not employed for pay</td>\n",
       "      <td>9$100,000 to under $150,000</td>\n",
       "      <td>0</td>\n",
       "      <td>NaN</td>\n",
       "      <td>NaN</td>\n",
       "    </tr>\n",
       "    <tr>\n",
       "      <th>2830</th>\n",
       "      <td>16</td>\n",
       "      <td>Male</td>\n",
       "      <td>White</td>\n",
       "      <td>High school graduate</td>\n",
       "      <td>Not employed for pay</td>\n",
       "      <td>9$100,000 to under $150,000</td>\n",
       "      <td>0</td>\n",
       "      <td>NaN</td>\n",
       "      <td>NaN</td>\n",
       "    </tr>\n",
       "    <tr>\n",
       "      <th>2831</th>\n",
       "      <td>16</td>\n",
       "      <td>Male</td>\n",
       "      <td>White</td>\n",
       "      <td>Don’t know</td>\n",
       "      <td>Not employed for pay</td>\n",
       "      <td>Refused</td>\n",
       "      <td>0</td>\n",
       "      <td>NaN</td>\n",
       "      <td>NaN</td>\n",
       "    </tr>\n",
       "  </tbody>\n",
       "</table>\n",
       "<p>2832 rows × 9 columns</p>\n",
       "</div>"
      ],
      "text/plain": [
       "      age     sex                             race               education  \\\n",
       "0      66    Male                          Refused        College graduate   \n",
       "1      46    Male  Native American/American Indian    High school graduate   \n",
       "2      32    Male                       Mixed race    High school graduate   \n",
       "3      27    Male                       Mixed race    High school graduate   \n",
       "4      16  Female                       Mixed race  High school incomplete   \n",
       "...   ...     ...                              ...                     ...   \n",
       "2827   18    Male                            White    High school graduate   \n",
       "2828   17    Male                            White  High school incomplete   \n",
       "2829   17  Female                            White  High school incomplete   \n",
       "2830   16    Male                            White    High school graduate   \n",
       "2831   16    Male                            White              Don’t know   \n",
       "\n",
       "                employment                      incomes  books_last_12mo  \\\n",
       "0                  Retired     $20,000 to under $30,000               97   \n",
       "1       Employed full-time            Less than $10,000               97   \n",
       "2       Employed full-time            Less than $10,000               97   \n",
       "3       Employed full-time     $40,000 to under $50,000               97   \n",
       "4       Employed part-time     $10,000 to under $20,000               97   \n",
       "...                    ...                          ...              ...   \n",
       "2827    Employed part-time    $75,000 to under $100,000                0   \n",
       "2828    Employed part-time     $30,000 to under $40,000                0   \n",
       "2829  Not employed for pay  9$100,000 to under $150,000                0   \n",
       "2830  Not employed for pay  9$100,000 to under $150,000                0   \n",
       "2831  Not employed for pay                      Refused                0   \n",
       "\n",
       "     audiobook_last_12mo                                purchased_borrowed  \n",
       "0                     No                                Purchased the book  \n",
       "1                    Yes                                Purchased the book  \n",
       "2                    Yes  Borrowed the book from a friend or family member  \n",
       "3                     No                  Borrowed the book from a library  \n",
       "4                    Yes                                Purchased the book  \n",
       "...                  ...                                               ...  \n",
       "2827                 NaN                                               NaN  \n",
       "2828                 NaN                                               NaN  \n",
       "2829                 NaN                                               NaN  \n",
       "2830                 NaN                                               NaN  \n",
       "2831                 NaN                                               NaN  \n",
       "\n",
       "[2832 rows x 9 columns]"
      ]
     },
     "execution_count": 408,
     "metadata": {},
     "output_type": "execute_result"
    }
   ],
   "source": [
    "df"
   ]
  },
  {
   "cell_type": "code",
   "execution_count": 409,
   "id": "525cae47",
   "metadata": {},
   "outputs": [
    {
     "name": "stdout",
     "output_type": "stream",
     "text": [
      "<class 'pandas.core.frame.DataFrame'>\n",
      "RangeIndex: 2832 entries, 0 to 2831\n",
      "Data columns (total 9 columns):\n",
      " #   Column               Non-Null Count  Dtype \n",
      "---  ------               --------------  ----- \n",
      " 0   age                  2832 non-null   int64 \n",
      " 1   sex                  2832 non-null   object\n",
      " 2   race                 2832 non-null   object\n",
      " 3   education            2832 non-null   object\n",
      " 4   employment           2832 non-null   object\n",
      " 5   incomes              2832 non-null   object\n",
      " 6   books_last_12mo      2832 non-null   int64 \n",
      " 7   audiobook_last_12mo  2442 non-null   object\n",
      " 8   purchased_borrowed   2442 non-null   object\n",
      "dtypes: int64(2), object(7)\n",
      "memory usage: 199.2+ KB\n"
     ]
    }
   ],
   "source": [
    "df.info()"
   ]
  },
  {
   "cell_type": "markdown",
   "id": "0abdb043",
   "metadata": {},
   "source": [
    "Look like we have some NAN values for <b>audiobook_last_12mo</b> and <b>purchased_borrowed</b>. Let's remove them."
   ]
  },
  {
   "cell_type": "code",
   "execution_count": 410,
   "id": "14c5d7d2",
   "metadata": {},
   "outputs": [
    {
     "data": {
      "text/html": [
       "<div>\n",
       "<style scoped>\n",
       "    .dataframe tbody tr th:only-of-type {\n",
       "        vertical-align: middle;\n",
       "    }\n",
       "\n",
       "    .dataframe tbody tr th {\n",
       "        vertical-align: top;\n",
       "    }\n",
       "\n",
       "    .dataframe thead th {\n",
       "        text-align: right;\n",
       "    }\n",
       "</style>\n",
       "<table border=\"1\" class=\"dataframe tex2jax_ignore\">\n",
       "  <thead>\n",
       "    <tr style=\"text-align: right;\">\n",
       "      <th></th>\n",
       "      <th>age</th>\n",
       "      <th>sex</th>\n",
       "      <th>race</th>\n",
       "      <th>education</th>\n",
       "      <th>employment</th>\n",
       "      <th>incomes</th>\n",
       "      <th>books_last_12mo</th>\n",
       "      <th>audiobook_last_12mo</th>\n",
       "      <th>purchased_borrowed</th>\n",
       "    </tr>\n",
       "  </thead>\n",
       "  <tbody>\n",
       "    <tr>\n",
       "      <th>0</th>\n",
       "      <td>66</td>\n",
       "      <td>Male</td>\n",
       "      <td>Refused</td>\n",
       "      <td>College graduate</td>\n",
       "      <td>Retired</td>\n",
       "      <td>$20,000 to under $30,000</td>\n",
       "      <td>97</td>\n",
       "      <td>No</td>\n",
       "      <td>Purchased the book</td>\n",
       "    </tr>\n",
       "    <tr>\n",
       "      <th>1</th>\n",
       "      <td>46</td>\n",
       "      <td>Male</td>\n",
       "      <td>Native American/American Indian</td>\n",
       "      <td>High school graduate</td>\n",
       "      <td>Employed full-time</td>\n",
       "      <td>Less than $10,000</td>\n",
       "      <td>97</td>\n",
       "      <td>Yes</td>\n",
       "      <td>Purchased the book</td>\n",
       "    </tr>\n",
       "    <tr>\n",
       "      <th>2</th>\n",
       "      <td>32</td>\n",
       "      <td>Male</td>\n",
       "      <td>Mixed race</td>\n",
       "      <td>High school graduate</td>\n",
       "      <td>Employed full-time</td>\n",
       "      <td>Less than $10,000</td>\n",
       "      <td>97</td>\n",
       "      <td>Yes</td>\n",
       "      <td>Borrowed the book from a friend or family member</td>\n",
       "    </tr>\n",
       "    <tr>\n",
       "      <th>3</th>\n",
       "      <td>27</td>\n",
       "      <td>Male</td>\n",
       "      <td>Mixed race</td>\n",
       "      <td>High school graduate</td>\n",
       "      <td>Employed full-time</td>\n",
       "      <td>$40,000 to under $50,000</td>\n",
       "      <td>97</td>\n",
       "      <td>No</td>\n",
       "      <td>Borrowed the book from a library</td>\n",
       "    </tr>\n",
       "    <tr>\n",
       "      <th>4</th>\n",
       "      <td>16</td>\n",
       "      <td>Female</td>\n",
       "      <td>Mixed race</td>\n",
       "      <td>High school incomplete</td>\n",
       "      <td>Employed part-time</td>\n",
       "      <td>$10,000 to under $20,000</td>\n",
       "      <td>97</td>\n",
       "      <td>Yes</td>\n",
       "      <td>Purchased the book</td>\n",
       "    </tr>\n",
       "    <tr>\n",
       "      <th>...</th>\n",
       "      <td>...</td>\n",
       "      <td>...</td>\n",
       "      <td>...</td>\n",
       "      <td>...</td>\n",
       "      <td>...</td>\n",
       "      <td>...</td>\n",
       "      <td>...</td>\n",
       "      <td>...</td>\n",
       "      <td>...</td>\n",
       "    </tr>\n",
       "    <tr>\n",
       "      <th>2437</th>\n",
       "      <td>16</td>\n",
       "      <td>Female</td>\n",
       "      <td>White</td>\n",
       "      <td>High school incomplete</td>\n",
       "      <td>Not employed for pay</td>\n",
       "      <td>$30,000 to under $40,000</td>\n",
       "      <td>1</td>\n",
       "      <td>No</td>\n",
       "      <td>Purchased the book</td>\n",
       "    </tr>\n",
       "    <tr>\n",
       "      <th>2438</th>\n",
       "      <td>16</td>\n",
       "      <td>Female</td>\n",
       "      <td>White</td>\n",
       "      <td>High school incomplete</td>\n",
       "      <td>Not employed for pay</td>\n",
       "      <td>Less than $10,000</td>\n",
       "      <td>1</td>\n",
       "      <td>No</td>\n",
       "      <td>Borrowed the book from a library</td>\n",
       "    </tr>\n",
       "    <tr>\n",
       "      <th>2439</th>\n",
       "      <td>16</td>\n",
       "      <td>Male</td>\n",
       "      <td>White</td>\n",
       "      <td>High school incomplete</td>\n",
       "      <td>Not employed for pay</td>\n",
       "      <td>9$100,000 to under $150,000</td>\n",
       "      <td>1</td>\n",
       "      <td>No</td>\n",
       "      <td>Got the book some other way</td>\n",
       "    </tr>\n",
       "    <tr>\n",
       "      <th>2440</th>\n",
       "      <td>16</td>\n",
       "      <td>Female</td>\n",
       "      <td>White</td>\n",
       "      <td>High school incomplete</td>\n",
       "      <td>Employed part-time</td>\n",
       "      <td>9$100,000 to under $150,000</td>\n",
       "      <td>1</td>\n",
       "      <td>No</td>\n",
       "      <td>Borrowed the book from a friend or family member</td>\n",
       "    </tr>\n",
       "    <tr>\n",
       "      <th>2441</th>\n",
       "      <td>16</td>\n",
       "      <td>Female</td>\n",
       "      <td>White</td>\n",
       "      <td>High school incomplete</td>\n",
       "      <td>Not employed for pay</td>\n",
       "      <td>$10,000 to under $20,000</td>\n",
       "      <td>1</td>\n",
       "      <td>No</td>\n",
       "      <td>Borrowed the book from a library</td>\n",
       "    </tr>\n",
       "  </tbody>\n",
       "</table>\n",
       "<p>2442 rows × 9 columns</p>\n",
       "</div>"
      ],
      "text/plain": [
       "      age     sex                             race               education  \\\n",
       "0      66    Male                          Refused        College graduate   \n",
       "1      46    Male  Native American/American Indian    High school graduate   \n",
       "2      32    Male                       Mixed race    High school graduate   \n",
       "3      27    Male                       Mixed race    High school graduate   \n",
       "4      16  Female                       Mixed race  High school incomplete   \n",
       "...   ...     ...                              ...                     ...   \n",
       "2437   16  Female                            White  High school incomplete   \n",
       "2438   16  Female                            White  High school incomplete   \n",
       "2439   16    Male                            White  High school incomplete   \n",
       "2440   16  Female                            White  High school incomplete   \n",
       "2441   16  Female                            White  High school incomplete   \n",
       "\n",
       "                employment                      incomes  books_last_12mo  \\\n",
       "0                  Retired     $20,000 to under $30,000               97   \n",
       "1       Employed full-time            Less than $10,000               97   \n",
       "2       Employed full-time            Less than $10,000               97   \n",
       "3       Employed full-time     $40,000 to under $50,000               97   \n",
       "4       Employed part-time     $10,000 to under $20,000               97   \n",
       "...                    ...                          ...              ...   \n",
       "2437  Not employed for pay     $30,000 to under $40,000                1   \n",
       "2438  Not employed for pay            Less than $10,000                1   \n",
       "2439  Not employed for pay  9$100,000 to under $150,000                1   \n",
       "2440    Employed part-time  9$100,000 to under $150,000                1   \n",
       "2441  Not employed for pay     $10,000 to under $20,000                1   \n",
       "\n",
       "     audiobook_last_12mo                                purchased_borrowed  \n",
       "0                     No                                Purchased the book  \n",
       "1                    Yes                                Purchased the book  \n",
       "2                    Yes  Borrowed the book from a friend or family member  \n",
       "3                     No                  Borrowed the book from a library  \n",
       "4                    Yes                                Purchased the book  \n",
       "...                  ...                                               ...  \n",
       "2437                  No                                Purchased the book  \n",
       "2438                  No                  Borrowed the book from a library  \n",
       "2439                  No                       Got the book some other way  \n",
       "2440                  No  Borrowed the book from a friend or family member  \n",
       "2441                  No                  Borrowed the book from a library  \n",
       "\n",
       "[2442 rows x 9 columns]"
      ]
     },
     "execution_count": 410,
     "metadata": {},
     "output_type": "execute_result"
    }
   ],
   "source": [
    "df = df.dropna()\n",
    "df"
   ]
  },
  {
   "cell_type": "markdown",
   "id": "7e084414",
   "metadata": {},
   "source": [
    "There's an incorrect income value for some rows: <code>9$100,000 to under $150,000</code> Let's gonna edit this."
   ]
  },
  {
   "cell_type": "code",
   "execution_count": 411,
   "id": "b1258d2a",
   "metadata": {},
   "outputs": [],
   "source": [
    "df = df.replace('9$100,000 to under $150,000', '$100,000 to under $150,000')"
   ]
  },
  {
   "cell_type": "code",
   "execution_count": 412,
   "id": "25116c31",
   "metadata": {},
   "outputs": [
    {
     "data": {
      "text/html": [
       "<div>\n",
       "<style scoped>\n",
       "    .dataframe tbody tr th:only-of-type {\n",
       "        vertical-align: middle;\n",
       "    }\n",
       "\n",
       "    .dataframe tbody tr th {\n",
       "        vertical-align: top;\n",
       "    }\n",
       "\n",
       "    .dataframe thead th {\n",
       "        text-align: right;\n",
       "    }\n",
       "</style>\n",
       "<table border=\"1\" class=\"dataframe tex2jax_ignore\">\n",
       "  <thead>\n",
       "    <tr style=\"text-align: right;\">\n",
       "      <th></th>\n",
       "      <th>age</th>\n",
       "      <th>sex</th>\n",
       "      <th>race</th>\n",
       "      <th>education</th>\n",
       "      <th>employment</th>\n",
       "      <th>incomes</th>\n",
       "      <th>books_last_12mo</th>\n",
       "      <th>audiobook_last_12mo</th>\n",
       "      <th>purchased_borrowed</th>\n",
       "    </tr>\n",
       "  </thead>\n",
       "  <tbody>\n",
       "    <tr>\n",
       "      <th>0</th>\n",
       "      <td>66</td>\n",
       "      <td>Male</td>\n",
       "      <td>Refused</td>\n",
       "      <td>College graduate</td>\n",
       "      <td>Retired</td>\n",
       "      <td>$20,000 to under $30,000</td>\n",
       "      <td>97</td>\n",
       "      <td>No</td>\n",
       "      <td>Purchased the book</td>\n",
       "    </tr>\n",
       "    <tr>\n",
       "      <th>1</th>\n",
       "      <td>46</td>\n",
       "      <td>Male</td>\n",
       "      <td>Native American/American Indian</td>\n",
       "      <td>High school graduate</td>\n",
       "      <td>Employed full-time</td>\n",
       "      <td>Less than $10,000</td>\n",
       "      <td>97</td>\n",
       "      <td>Yes</td>\n",
       "      <td>Purchased the book</td>\n",
       "    </tr>\n",
       "    <tr>\n",
       "      <th>2</th>\n",
       "      <td>32</td>\n",
       "      <td>Male</td>\n",
       "      <td>Mixed race</td>\n",
       "      <td>High school graduate</td>\n",
       "      <td>Employed full-time</td>\n",
       "      <td>Less than $10,000</td>\n",
       "      <td>97</td>\n",
       "      <td>Yes</td>\n",
       "      <td>Borrowed the book from a friend or family member</td>\n",
       "    </tr>\n",
       "    <tr>\n",
       "      <th>3</th>\n",
       "      <td>27</td>\n",
       "      <td>Male</td>\n",
       "      <td>Mixed race</td>\n",
       "      <td>High school graduate</td>\n",
       "      <td>Employed full-time</td>\n",
       "      <td>$40,000 to under $50,000</td>\n",
       "      <td>97</td>\n",
       "      <td>No</td>\n",
       "      <td>Borrowed the book from a library</td>\n",
       "    </tr>\n",
       "    <tr>\n",
       "      <th>4</th>\n",
       "      <td>16</td>\n",
       "      <td>Female</td>\n",
       "      <td>Mixed race</td>\n",
       "      <td>High school incomplete</td>\n",
       "      <td>Employed part-time</td>\n",
       "      <td>$10,000 to under $20,000</td>\n",
       "      <td>97</td>\n",
       "      <td>Yes</td>\n",
       "      <td>Purchased the book</td>\n",
       "    </tr>\n",
       "    <tr>\n",
       "      <th>...</th>\n",
       "      <td>...</td>\n",
       "      <td>...</td>\n",
       "      <td>...</td>\n",
       "      <td>...</td>\n",
       "      <td>...</td>\n",
       "      <td>...</td>\n",
       "      <td>...</td>\n",
       "      <td>...</td>\n",
       "      <td>...</td>\n",
       "    </tr>\n",
       "    <tr>\n",
       "      <th>2437</th>\n",
       "      <td>16</td>\n",
       "      <td>Female</td>\n",
       "      <td>White</td>\n",
       "      <td>High school incomplete</td>\n",
       "      <td>Not employed for pay</td>\n",
       "      <td>$30,000 to under $40,000</td>\n",
       "      <td>1</td>\n",
       "      <td>No</td>\n",
       "      <td>Purchased the book</td>\n",
       "    </tr>\n",
       "    <tr>\n",
       "      <th>2438</th>\n",
       "      <td>16</td>\n",
       "      <td>Female</td>\n",
       "      <td>White</td>\n",
       "      <td>High school incomplete</td>\n",
       "      <td>Not employed for pay</td>\n",
       "      <td>Less than $10,000</td>\n",
       "      <td>1</td>\n",
       "      <td>No</td>\n",
       "      <td>Borrowed the book from a library</td>\n",
       "    </tr>\n",
       "    <tr>\n",
       "      <th>2439</th>\n",
       "      <td>16</td>\n",
       "      <td>Male</td>\n",
       "      <td>White</td>\n",
       "      <td>High school incomplete</td>\n",
       "      <td>Not employed for pay</td>\n",
       "      <td>$100,000 to under $150,000</td>\n",
       "      <td>1</td>\n",
       "      <td>No</td>\n",
       "      <td>Got the book some other way</td>\n",
       "    </tr>\n",
       "    <tr>\n",
       "      <th>2440</th>\n",
       "      <td>16</td>\n",
       "      <td>Female</td>\n",
       "      <td>White</td>\n",
       "      <td>High school incomplete</td>\n",
       "      <td>Employed part-time</td>\n",
       "      <td>$100,000 to under $150,000</td>\n",
       "      <td>1</td>\n",
       "      <td>No</td>\n",
       "      <td>Borrowed the book from a friend or family member</td>\n",
       "    </tr>\n",
       "    <tr>\n",
       "      <th>2441</th>\n",
       "      <td>16</td>\n",
       "      <td>Female</td>\n",
       "      <td>White</td>\n",
       "      <td>High school incomplete</td>\n",
       "      <td>Not employed for pay</td>\n",
       "      <td>$10,000 to under $20,000</td>\n",
       "      <td>1</td>\n",
       "      <td>No</td>\n",
       "      <td>Borrowed the book from a library</td>\n",
       "    </tr>\n",
       "  </tbody>\n",
       "</table>\n",
       "<p>2442 rows × 9 columns</p>\n",
       "</div>"
      ],
      "text/plain": [
       "      age     sex                             race               education  \\\n",
       "0      66    Male                          Refused        College graduate   \n",
       "1      46    Male  Native American/American Indian    High school graduate   \n",
       "2      32    Male                       Mixed race    High school graduate   \n",
       "3      27    Male                       Mixed race    High school graduate   \n",
       "4      16  Female                       Mixed race  High school incomplete   \n",
       "...   ...     ...                              ...                     ...   \n",
       "2437   16  Female                            White  High school incomplete   \n",
       "2438   16  Female                            White  High school incomplete   \n",
       "2439   16    Male                            White  High school incomplete   \n",
       "2440   16  Female                            White  High school incomplete   \n",
       "2441   16  Female                            White  High school incomplete   \n",
       "\n",
       "                employment                     incomes  books_last_12mo  \\\n",
       "0                  Retired    $20,000 to under $30,000               97   \n",
       "1       Employed full-time           Less than $10,000               97   \n",
       "2       Employed full-time           Less than $10,000               97   \n",
       "3       Employed full-time    $40,000 to under $50,000               97   \n",
       "4       Employed part-time    $10,000 to under $20,000               97   \n",
       "...                    ...                         ...              ...   \n",
       "2437  Not employed for pay    $30,000 to under $40,000                1   \n",
       "2438  Not employed for pay           Less than $10,000                1   \n",
       "2439  Not employed for pay  $100,000 to under $150,000                1   \n",
       "2440    Employed part-time  $100,000 to under $150,000                1   \n",
       "2441  Not employed for pay    $10,000 to under $20,000                1   \n",
       "\n",
       "     audiobook_last_12mo                                purchased_borrowed  \n",
       "0                     No                                Purchased the book  \n",
       "1                    Yes                                Purchased the book  \n",
       "2                    Yes  Borrowed the book from a friend or family member  \n",
       "3                     No                  Borrowed the book from a library  \n",
       "4                    Yes                                Purchased the book  \n",
       "...                  ...                                               ...  \n",
       "2437                  No                                Purchased the book  \n",
       "2438                  No                  Borrowed the book from a library  \n",
       "2439                  No                       Got the book some other way  \n",
       "2440                  No  Borrowed the book from a friend or family member  \n",
       "2441                  No                  Borrowed the book from a library  \n",
       "\n",
       "[2442 rows x 9 columns]"
      ]
     },
     "execution_count": 412,
     "metadata": {},
     "output_type": "execute_result"
    }
   ],
   "source": [
    "df"
   ]
  },
  {
   "cell_type": "code",
   "execution_count": 413,
   "id": "14a946ea",
   "metadata": {},
   "outputs": [
    {
     "data": {
      "text/plain": [
       "array(['$20,000 to under $30,000', 'Less than $10,000',\n",
       "       '$40,000 to under $50,000', '$10,000 to under $20,000',\n",
       "       '$50,000 to under $75,000', '$100,000 to under $150,000',\n",
       "       '$75,000 to under $100,000', '$30,000 to under $40,000', 'Refused'],\n",
       "      dtype=object)"
      ]
     },
     "execution_count": 413,
     "metadata": {},
     "output_type": "execute_result"
    }
   ],
   "source": [
    "df.incomes.unique()"
   ]
  },
  {
   "cell_type": "markdown",
   "id": "889baea1",
   "metadata": {},
   "source": [
    "Fixed."
   ]
  },
  {
   "cell_type": "markdown",
   "id": "be0c128d",
   "metadata": {},
   "source": [
    "#### Let's gonna better format some values."
   ]
  },
  {
   "cell_type": "code",
   "execution_count": 414,
   "id": "1f4313ba",
   "metadata": {},
   "outputs": [
    {
     "data": {
      "text/plain": [
       "array(['Retired', 'Employed full-time', 'Employed part-time',\n",
       "       'Have own business/self-employed', 'Student', 'Other',\n",
       "       'Not employed for pay', 'Disabled'], dtype=object)"
      ]
     },
     "execution_count": 414,
     "metadata": {},
     "output_type": "execute_result"
    }
   ],
   "source": [
    "df.employment.unique()"
   ]
  },
  {
   "cell_type": "code",
   "execution_count": 415,
   "id": "d814fe95",
   "metadata": {},
   "outputs": [],
   "source": [
    "df = df.replace('Employed full-time', 'FT')\n",
    "df = df.replace('Employed part-time', 'PT')\n",
    "df = df.replace('Not employed for pay', 'NotEmpl')\n",
    "df = df.replace('Have own business/self-employed', 'SelfEmpl')"
   ]
  },
  {
   "cell_type": "code",
   "execution_count": 416,
   "id": "2d6187ad",
   "metadata": {},
   "outputs": [
    {
     "data": {
      "text/plain": [
       "array(['Purchased the book',\n",
       "       'Borrowed the book from a friend or family member',\n",
       "       'Borrowed the book from a library', 'Got the book some other way',\n",
       "       '8', '9'], dtype=object)"
      ]
     },
     "execution_count": 416,
     "metadata": {},
     "output_type": "execute_result"
    }
   ],
   "source": [
    "df.purchased_borrowed.unique()"
   ]
  },
  {
   "cell_type": "code",
   "execution_count": 417,
   "id": "4c0a36ff",
   "metadata": {},
   "outputs": [],
   "source": [
    "df = df.replace('Purchased the book', 'Purchased')\n",
    "df = df.replace(['Borrowed the book from a friend or family member', 'Borrowed the book from a library'], 'Borrowed')\n",
    "df = df.replace('Got the book some other way', 'Other')"
   ]
  },
  {
   "cell_type": "markdown",
   "id": "7812fc2a",
   "metadata": {},
   "source": [
    "Looks like we even have some incorrect values ​​here (8, 9). For the sake of accuracy, we're gonna remove these rows."
   ]
  },
  {
   "cell_type": "code",
   "execution_count": 418,
   "id": "ecaddb37",
   "metadata": {},
   "outputs": [],
   "source": [
    "df = df[df[\"purchased_borrowed\"].str.contains(\"8\") == False]\n",
    "df = df[df[\"purchased_borrowed\"].str.contains(\"9\") == False]"
   ]
  },
  {
   "cell_type": "code",
   "execution_count": 419,
   "id": "3efd2813",
   "metadata": {},
   "outputs": [
    {
     "data": {
      "text/plain": [
       "array(['Purchased', 'Borrowed', 'Other'], dtype=object)"
      ]
     },
     "execution_count": 419,
     "metadata": {},
     "output_type": "execute_result"
    }
   ],
   "source": [
    "df.purchased_borrowed.unique()"
   ]
  },
  {
   "cell_type": "markdown",
   "id": "bb1e83b2",
   "metadata": {},
   "source": [
    "#### Transform \"incomes\" from objects to int"
   ]
  },
  {
   "cell_type": "markdown",
   "id": "b73e0c1f",
   "metadata": {},
   "source": [
    "Since incomes' values are range of numbers, let's gonna edit them: Python needs to know that those are numeric values.\n",
    "We're gonna edit them in this way:\n",
    "\n",
    "<code>\n",
    "* Refused --> 0\n",
    "* Less than $10,000 --> 1\n",
    "* $10,000 to under $20,000 --> 2\n",
    "* $20,000 to under $30,000 --> 3\n",
    "* $30,000 to under $40,000 --> 4\n",
    "* $40,000 to under $50,000 --> 5\n",
    "* $50,000 to under $75,000 --> 6\n",
    "* $75,000 to under $100,000 --> 7 \n",
    "* $100,000 to under $150,000 --> 8 </code>"
   ]
  },
  {
   "cell_type": "code",
   "execution_count": 420,
   "id": "012d0be3",
   "metadata": {},
   "outputs": [],
   "source": [
    "df = df.replace('Refused', '0')\n",
    "df = df.replace('Less than $10,000','1')\n",
    "df = df.replace('$10,000 to under $20,000','2')\n",
    "df = df.replace('$20,000 to under $30,000','3')\n",
    "df = df.replace('$30,000 to under $40,000','4')\n",
    "df = df.replace('$40,000 to under $50,000','5')\n",
    "df = df.replace('$50,000 to under $75,000','6')\n",
    "df = df.replace('$75,000 to under $100,000','7')\n",
    "df = df.replace('$100,000 to under $150,000','8')"
   ]
  },
  {
   "cell_type": "code",
   "execution_count": 421,
   "id": "8d917a8b",
   "metadata": {},
   "outputs": [],
   "source": [
    "df[\"incomes\"] = pd.to_numeric(df[\"incomes\"])"
   ]
  },
  {
   "cell_type": "code",
   "execution_count": 422,
   "id": "ffe48d7b",
   "metadata": {},
   "outputs": [
    {
     "data": {
      "text/plain": [
       "array([3, 1, 5, 2, 6, 8, 7, 4, 0], dtype=int64)"
      ]
     },
     "execution_count": 422,
     "metadata": {},
     "output_type": "execute_result"
    }
   ],
   "source": [
    "df.incomes.unique()"
   ]
  },
  {
   "cell_type": "markdown",
   "id": "41939ed7",
   "metadata": {},
   "source": [
    "Now that our dataframe is clean, we can go on and do some analysis. One last check:"
   ]
  },
  {
   "cell_type": "code",
   "execution_count": 423,
   "id": "efd2ad4b",
   "metadata": {},
   "outputs": [
    {
     "name": "stdout",
     "output_type": "stream",
     "text": [
      "<class 'pandas.core.frame.DataFrame'>\n",
      "Int64Index: 2411 entries, 0 to 2441\n",
      "Data columns (total 9 columns):\n",
      " #   Column               Non-Null Count  Dtype \n",
      "---  ------               --------------  ----- \n",
      " 0   age                  2411 non-null   int64 \n",
      " 1   sex                  2411 non-null   object\n",
      " 2   race                 2411 non-null   object\n",
      " 3   education            2411 non-null   object\n",
      " 4   employment           2411 non-null   object\n",
      " 5   incomes              2411 non-null   int64 \n",
      " 6   books_last_12mo      2411 non-null   int64 \n",
      " 7   audiobook_last_12mo  2411 non-null   object\n",
      " 8   purchased_borrowed   2411 non-null   object\n",
      "dtypes: int64(3), object(6)\n",
      "memory usage: 188.4+ KB\n"
     ]
    }
   ],
   "source": [
    "df.info()"
   ]
  },
  {
   "cell_type": "markdown",
   "id": "ab36d0d7",
   "metadata": {},
   "source": [
    "## Exploratory analysis & visualization"
   ]
  },
  {
   "cell_type": "markdown",
   "id": "67bde4fe",
   "metadata": {},
   "source": [
    "#### Checking out useful info (only for numerical type)"
   ]
  },
  {
   "cell_type": "code",
   "execution_count": 424,
   "id": "3d863b13",
   "metadata": {},
   "outputs": [
    {
     "data": {
      "text/html": [
       "<div>\n",
       "<style scoped>\n",
       "    .dataframe tbody tr th:only-of-type {\n",
       "        vertical-align: middle;\n",
       "    }\n",
       "\n",
       "    .dataframe tbody tr th {\n",
       "        vertical-align: top;\n",
       "    }\n",
       "\n",
       "    .dataframe thead th {\n",
       "        text-align: right;\n",
       "    }\n",
       "</style>\n",
       "<table border=\"1\" class=\"dataframe tex2jax_ignore\">\n",
       "  <thead>\n",
       "    <tr style=\"text-align: right;\">\n",
       "      <th></th>\n",
       "      <th>age</th>\n",
       "      <th>incomes</th>\n",
       "      <th>books_last_12mo</th>\n",
       "    </tr>\n",
       "  </thead>\n",
       "  <tbody>\n",
       "    <tr>\n",
       "      <th>count</th>\n",
       "      <td>2411.000000</td>\n",
       "      <td>2411.000000</td>\n",
       "      <td>2411.000000</td>\n",
       "    </tr>\n",
       "    <tr>\n",
       "      <th>mean</th>\n",
       "      <td>46.474077</td>\n",
       "      <td>5.068436</td>\n",
       "      <td>19.453754</td>\n",
       "    </tr>\n",
       "    <tr>\n",
       "      <th>std</th>\n",
       "      <td>18.512496</td>\n",
       "      <td>2.719509</td>\n",
       "      <td>24.481169</td>\n",
       "    </tr>\n",
       "    <tr>\n",
       "      <th>min</th>\n",
       "      <td>16.000000</td>\n",
       "      <td>0.000000</td>\n",
       "      <td>1.000000</td>\n",
       "    </tr>\n",
       "    <tr>\n",
       "      <th>25%</th>\n",
       "      <td>31.000000</td>\n",
       "      <td>3.000000</td>\n",
       "      <td>4.000000</td>\n",
       "    </tr>\n",
       "    <tr>\n",
       "      <th>50%</th>\n",
       "      <td>47.000000</td>\n",
       "      <td>6.000000</td>\n",
       "      <td>10.000000</td>\n",
       "    </tr>\n",
       "    <tr>\n",
       "      <th>75%</th>\n",
       "      <td>61.000000</td>\n",
       "      <td>8.000000</td>\n",
       "      <td>25.000000</td>\n",
       "    </tr>\n",
       "    <tr>\n",
       "      <th>max</th>\n",
       "      <td>93.000000</td>\n",
       "      <td>8.000000</td>\n",
       "      <td>97.000000</td>\n",
       "    </tr>\n",
       "  </tbody>\n",
       "</table>\n",
       "</div>"
      ],
      "text/plain": [
       "               age      incomes  books_last_12mo\n",
       "count  2411.000000  2411.000000      2411.000000\n",
       "mean     46.474077     5.068436        19.453754\n",
       "std      18.512496     2.719509        24.481169\n",
       "min      16.000000     0.000000         1.000000\n",
       "25%      31.000000     3.000000         4.000000\n",
       "50%      47.000000     6.000000        10.000000\n",
       "75%      61.000000     8.000000        25.000000\n",
       "max      93.000000     8.000000        97.000000"
      ]
     },
     "execution_count": 424,
     "metadata": {},
     "output_type": "execute_result"
    }
   ],
   "source": [
    "df.describe()"
   ]
  },
  {
   "cell_type": "markdown",
   "id": "1255084f",
   "metadata": {},
   "source": [
    "#### Studying demographic - Age"
   ]
  },
  {
   "cell_type": "code",
   "execution_count": 425,
   "id": "109c7df3",
   "metadata": {},
   "outputs": [
    {
     "data": {
      "text/plain": [
       "array([66, 46, 32, 27, 16, 55, 63, 60, 50, 29, 23, 19, 89, 88, 84, 81, 80,\n",
       "       79, 78, 77, 76, 75, 73, 71, 70, 69, 68, 67, 65, 64, 62, 59, 58, 57,\n",
       "       56, 54, 53, 52, 45, 44, 42, 41, 40, 38, 37, 36, 35, 34, 33, 30, 28,\n",
       "       26, 25, 24, 22, 21, 20, 18, 17, 48, 47, 74, 61, 39, 31, 51, 90, 83,\n",
       "       72, 49, 86, 82, 43, 85, 91, 87, 93], dtype=int64)"
      ]
     },
     "execution_count": 425,
     "metadata": {},
     "output_type": "execute_result"
    }
   ],
   "source": [
    "df.age.unique()"
   ]
  },
  {
   "cell_type": "markdown",
   "id": "8f5a0355",
   "metadata": {},
   "source": [
    "Let's visualize this"
   ]
  },
  {
   "cell_type": "code",
   "execution_count": 426,
   "id": "c639e14f",
   "metadata": {
    "scrolled": true
   },
   "outputs": [
    {
     "data": {
      "image/png": "[encoded data removed]",
      "text/plain": [
       "<Figure size 1200x600 with 1 Axes>"
      ]
     },
     "metadata": {},
     "output_type": "display_data"
    }
   ],
   "source": [
    "plt.figure(figsize=(12, 6))\n",
    "plt.xlabel('Age')\n",
    "plt.ylabel('Number of respondents')\n",
    "\n",
    "plt.hist(df.age, bins=np.arange(15,95,5), color='purple');"
   ]
  },
  {
   "cell_type": "markdown",
   "id": "d69123fc",
   "metadata": {},
   "source": [
    "Seems like there's a slightly high peak for 50-55 age range. Overall it looks like that we have a pretty well distributed graph-"
   ]
  },
  {
   "cell_type": "markdown",
   "id": "bf1993a7",
   "metadata": {},
   "source": [
    "#### Studying demographic II - Sex"
   ]
  },
  {
   "cell_type": "code",
   "execution_count": 427,
   "id": "07162050",
   "metadata": {},
   "outputs": [
    {
     "data": {
      "text/plain": [
       "array(['Male', 'Female'], dtype=object)"
      ]
     },
     "execution_count": 427,
     "metadata": {},
     "output_type": "execute_result"
    }
   ],
   "source": [
    "df.sex.unique()"
   ]
  },
  {
   "cell_type": "code",
   "execution_count": 428,
   "id": "1b25ccde",
   "metadata": {},
   "outputs": [
    {
     "data": {
      "text/plain": [
       "Female    1320\n",
       "Male      1091\n",
       "Name: sex, dtype: int64"
      ]
     },
     "execution_count": 428,
     "metadata": {},
     "output_type": "execute_result"
    }
   ],
   "source": [
    "sex_counts = df.sex.value_counts()\n",
    "sex_counts"
   ]
  },
  {
   "cell_type": "markdown",
   "id": "6344d546",
   "metadata": {},
   "source": [
    "Even without a graphical visualization, it seems already that we have just a slightly majority of women."
   ]
  },
  {
   "cell_type": "code",
   "execution_count": 429,
   "id": "c2a8edd3",
   "metadata": {},
   "outputs": [
    {
     "data": {
      "image/png": "[encoded data removed]",
      "text/plain": [
       "<Figure size 1200x600 with 1 Axes>"
      ]
     },
     "metadata": {},
     "output_type": "display_data"
    }
   ],
   "source": [
    "plt.figure(figsize=(12,6))\n",
    "plt.pie(sex_counts, labels=sex_counts.index, autopct='%1.1f%%', startangle=180);"
   ]
  },
  {
   "cell_type": "markdown",
   "id": "8ccabdcd",
   "metadata": {},
   "source": [
    "q.e.d."
   ]
  },
  {
   "cell_type": "markdown",
   "id": "235c0089",
   "metadata": {},
   "source": [
    "#### Studying demographic III - Education Level"
   ]
  },
  {
   "cell_type": "code",
   "execution_count": 430,
   "id": "ed4bc627",
   "metadata": {},
   "outputs": [
    {
     "data": {
      "image/png": "[encoded data removed]",
      "text/plain": [
       "<Figure size 900x500 with 1 Axes>"
      ]
     },
     "metadata": {},
     "output_type": "display_data"
    }
   ],
   "source": [
    "sns.countplot(y=df.education)\n",
    "plt.xticks(rotation=75);\n",
    "plt.ylabel(None);"
   ]
  },
  {
   "cell_type": "markdown",
   "id": "24397791",
   "metadata": {},
   "source": [
    "It appears that most of the respondents have some sort of higher education (college, post college training, associate degree, ecc). Later we'll check more in depth respondents with lower education (HS, incomplete HS, none)"
   ]
  },
  {
   "cell_type": "markdown",
   "id": "5db8db06",
   "metadata": {},
   "source": [
    "#### Studying demographic IV - Employement"
   ]
  },
  {
   "cell_type": "code",
   "execution_count": 431,
   "id": "002f0aab",
   "metadata": {},
   "outputs": [
    {
     "data": {
      "text/plain": [
       "array(['Retired', 'FT', 'PT', 'SelfEmpl', 'Student', 'Other', 'NotEmpl',\n",
       "       'Disabled'], dtype=object)"
      ]
     },
     "execution_count": 431,
     "metadata": {},
     "output_type": "execute_result"
    }
   ],
   "source": [
    "df.employment.unique()"
   ]
  },
  {
   "cell_type": "code",
   "execution_count": 432,
   "id": "e4336a4e",
   "metadata": {},
   "outputs": [
    {
     "data": {
      "image/png": "[encoded data removed]",
      "text/plain": [
       "<Figure size 900x500 with 1 Axes>"
      ]
     },
     "metadata": {},
     "output_type": "display_data"
    }
   ],
   "source": [
    "(df.employment.value_counts(normalize=True, ascending=True)*100).plot(kind='barh', color='g')\n",
    "plt.xlabel('Percentage');"
   ]
  },
  {
   "cell_type": "markdown",
   "id": "990e6874",
   "metadata": {},
   "source": [
    "Almost half of our respondants works full-time, while the other half either works PT or doesn't work at all."
   ]
  },
  {
   "cell_type": "markdown",
   "id": "7a34335f",
   "metadata": {},
   "source": [
    "#### Studying demographic V - Incomes"
   ]
  },
  {
   "cell_type": "code",
   "execution_count": 433,
   "id": "e9139473",
   "metadata": {},
   "outputs": [
    {
     "data": {
      "text/plain": [
       "array([3, 1, 5, 2, 6, 8, 7, 4, 0], dtype=int64)"
      ]
     },
     "execution_count": 433,
     "metadata": {},
     "output_type": "execute_result"
    }
   ],
   "source": [
    "df.incomes.unique()"
   ]
  },
  {
   "cell_type": "markdown",
   "id": "68266305",
   "metadata": {},
   "source": [
    "Let's remember our legend:\n",
    "\n",
    "<code>\n",
    "* Refused --> 0\n",
    "* Less than $10,000 --> 1\n",
    "* $10,000 to under $20,000 --> 2\n",
    "* $20,000 to under $30,000 --> 3\n",
    "* $30,000 to under $40,000 --> 4\n",
    "* $40,000 to under $50,000 --> 5\n",
    "* $50,000 to under $75,000 --> 6\n",
    "* $75,000 to under $100,000 --> 7 \n",
    "* $100,000 to under $150,000 --> 8 </code>"
   ]
  },
  {
   "cell_type": "markdown",
   "id": "8f41f446",
   "metadata": {},
   "source": [
    "Let's remove those who refused to answer:"
   ]
  },
  {
   "cell_type": "code",
   "execution_count": 434,
   "id": "1495d58b",
   "metadata": {},
   "outputs": [
    {
     "data": {
      "text/plain": [
       "array([3, 1, 5, 2, 6, 8, 7, 4], dtype=int64)"
      ]
     },
     "execution_count": 434,
     "metadata": {},
     "output_type": "execute_result"
    }
   ],
   "source": [
    "df = df[df.incomes != 0]\n",
    "df.incomes.unique()"
   ]
  },
  {
   "cell_type": "code",
   "execution_count": 435,
   "id": "c2bdd20a",
   "metadata": {},
   "outputs": [
    {
     "data": {
      "image/png": "[encoded data removed]",
      "text/plain": [
       "<Figure size 900x500 with 1 Axes>"
      ]
     },
     "metadata": {},
     "output_type": "display_data"
    }
   ],
   "source": [
    "(df.incomes.value_counts(normalize=True, ascending=True)*100).plot(kind='barh', color='g')\n",
    "plt.xlabel('Percentage');"
   ]
  },
  {
   "cell_type": "markdown",
   "id": "ed32dd62",
   "metadata": {},
   "source": [
    "Around ~32% has an high income (100k-150k), the other ranges seems quite well distribuited.\n",
    "Since we don't know respondants' countries, we can't actually say if this is the average income or not, but considering we're taking dollars ($) as currency, it could be US, where the average annual income is around 100k. "
   ]
  },
  {
   "cell_type": "markdown",
   "id": "110123b1",
   "metadata": {},
   "source": [
    "## Asking and answering questions"
   ]
  },
  {
   "cell_type": "markdown",
   "id": "a69516aa",
   "metadata": {},
   "source": [
    "#### Q1: Is there a difference between sex? Do females read more than males or viceversa?"
   ]
  },
  {
   "cell_type": "code",
   "execution_count": 436,
   "id": "a6482099",
   "metadata": {},
   "outputs": [],
   "source": [
    "female_readers_df = df[df['sex'] == \"Female\"]\n",
    "male_readers_df = df[df['sex'] == \"Male\"]"
   ]
  },
  {
   "cell_type": "code",
   "execution_count": 437,
   "id": "7d52f627",
   "metadata": {},
   "outputs": [
    {
     "data": {
      "text/plain": [
       "26041"
      ]
     },
     "execution_count": 437,
     "metadata": {},
     "output_type": "execute_result"
    }
   ],
   "source": [
    "female_readers_df.books_last_12mo.sum()"
   ]
  },
  {
   "cell_type": "code",
   "execution_count": 438,
   "id": "9dd63b02",
   "metadata": {},
   "outputs": [
    {
     "data": {
      "text/plain": [
       "16191"
      ]
     },
     "execution_count": 438,
     "metadata": {},
     "output_type": "execute_result"
    }
   ],
   "source": [
    "male_readers_df.books_last_12mo.sum()"
   ]
  },
  {
   "cell_type": "code",
   "execution_count": 439,
   "id": "382bd557",
   "metadata": {},
   "outputs": [
    {
     "data": {
      "text/plain": [
       "<Axes: xlabel='sex', ylabel='books_last_12mo'>"
      ]
     },
     "execution_count": 439,
     "metadata": {},
     "output_type": "execute_result"
    },
    {
     "data": {
      "image/png": "[encoded data removed]",
      "text/plain": [
       "<Figure size 900x500 with 1 Axes>"
      ]
     },
     "metadata": {},
     "output_type": "display_data"
    }
   ],
   "source": [
    "sns.barplot(y = 'books_last_12mo',\n",
    "            x= 'sex',\n",
    "            data = df)"
   ]
  },
  {
   "cell_type": "markdown",
   "id": "21a6e7dd",
   "metadata": {},
   "source": [
    "Seems like female read a bit more than male. But we have to consider that, as we saw in our demographic analysis, we have more female than male in this dataframe."
   ]
  },
  {
   "cell_type": "markdown",
   "id": "3e270dcd",
   "metadata": {},
   "source": [
    "#### Q2: What age (range) reads the most? And why (optional)"
   ]
  },
  {
   "cell_type": "code",
   "execution_count": 440,
   "id": "a50f589e",
   "metadata": {},
   "outputs": [],
   "source": [
    "df_young = df[df.age < 20]\n",
    "df_mid_adults = df[(df.age > 20) & (df.age < 40)]\n",
    "df_old = df[(df.age > 40) & (df.age < 95)]"
   ]
  },
  {
   "cell_type": "code",
   "execution_count": 441,
   "id": "a0dd9a72",
   "metadata": {},
   "outputs": [
    {
     "name": "stdout",
     "output_type": "stream",
     "text": [
      "Young people read an average of 17.5 books per year\n",
      "Adults read an average of 17.4 books per year\n",
      "Old people read an average of 21.2 books per year\n"
     ]
    }
   ],
   "source": [
    "x = round(df_young['books_last_12mo'].mean(), 1)\n",
    "y = round(df_mid_adults['books_last_12mo'].mean(), 1)\n",
    "z = round(df_old['books_last_12mo'].mean(), 1)\n",
    "\n",
    "print(\"Young people read an average of {} books per year\".format(x))\n",
    "print(\"Adults read an average of {} books per year\".format(y))\n",
    "print(\"Old people read an average of {} books per year\".format(z))"
   ]
  },
  {
   "cell_type": "markdown",
   "id": "20a54b82",
   "metadata": {},
   "source": [
    "Seems like that old people reads more than youngers and adults."
   ]
  },
  {
   "cell_type": "code",
   "execution_count": 468,
   "id": "775af911",
   "metadata": {},
   "outputs": [
    {
     "data": {
      "image/png": "[encoded data removed]",
      "text/plain": [
       "<Figure size 1200x600 with 1 Axes>"
      ]
     },
     "metadata": {},
     "output_type": "display_data"
    }
   ],
   "source": [
    "plt.figure(figsize=(12, 6))\n",
    "plt.xlabel('Number of books')\n",
    "plt.ylabel('Number of respondents')\n",
    "\n",
    "plt.hist(df_young.books_last_12mo, bins=np.arange(1,95,5), color='purple', label='Young');\n",
    "plt.hist(df_mid_adults.books_last_12mo, bins=np.arange(1,95,5), color='yellow', alpha=0.5);\n",
    "plt.hist(df_old.books_last_12mo, bins=np.arange(1,95,5), color='red', alpha=0.2);"
   ]
  },
  {
   "cell_type": "markdown",
   "id": "0ba3d438",
   "metadata": {},
   "source": [
    "#### Q3: Among which category audiobooks are popular?"
   ]
  },
  {
   "cell_type": "markdown",
   "id": "0e4430b0",
   "metadata": {},
   "source": [
    "Switching Yes to 1 and No to 0, so we can do some calculations."
   ]
  },
  {
   "cell_type": "code",
   "execution_count": 443,
   "id": "0b116de9",
   "metadata": {},
   "outputs": [],
   "source": [
    "df = df.replace('Yes', '1')\n",
    "df = df.replace('No', '0')"
   ]
  },
  {
   "cell_type": "code",
   "execution_count": 444,
   "id": "35768e58",
   "metadata": {},
   "outputs": [
    {
     "data": {
      "text/plain": [
       "array(['0', '1', 'Don’t know'], dtype=object)"
      ]
     },
     "execution_count": 444,
     "metadata": {},
     "output_type": "execute_result"
    }
   ],
   "source": [
    "df.audiobook_last_12mo.unique()"
   ]
  },
  {
   "cell_type": "markdown",
   "id": "552dc0d3",
   "metadata": {},
   "source": [
    "Let's remove \"Don't know\""
   ]
  },
  {
   "cell_type": "code",
   "execution_count": 445,
   "id": "7db58ec9",
   "metadata": {},
   "outputs": [],
   "source": [
    "df = df[df[\"audiobook_last_12mo\"].str.contains(\"Don’t know\") == False]"
   ]
  },
  {
   "cell_type": "code",
   "execution_count": 446,
   "id": "a8f9923b",
   "metadata": {},
   "outputs": [
    {
     "data": {
      "text/plain": [
       "0       0\n",
       "1       1\n",
       "2       1\n",
       "3       0\n",
       "4       1\n",
       "       ..\n",
       "2437    0\n",
       "2438    0\n",
       "2439    0\n",
       "2440    0\n",
       "2441    0\n",
       "Name: audiobook_last_12mo, Length: 2165, dtype: int32"
      ]
     },
     "execution_count": 446,
     "metadata": {},
     "output_type": "execute_result"
    }
   ],
   "source": [
    "df.audiobook_last_12mo.astype(int)"
   ]
  },
  {
   "cell_type": "markdown",
   "id": "cd83f581",
   "metadata": {},
   "source": [
    "Let's select those who said \"Yes\" to audiobook in the last 12 months."
   ]
  },
  {
   "cell_type": "code",
   "execution_count": 447,
   "id": "ea22303b",
   "metadata": {},
   "outputs": [],
   "source": [
    "audiobook_lovers = df[df.audiobook_last_12mo == '1']"
   ]
  },
  {
   "cell_type": "code",
   "execution_count": 448,
   "id": "93cc6505",
   "metadata": {},
   "outputs": [
    {
     "data": {
      "text/html": [
       "<div>\n",
       "<style scoped>\n",
       "    .dataframe tbody tr th:only-of-type {\n",
       "        vertical-align: middle;\n",
       "    }\n",
       "\n",
       "    .dataframe tbody tr th {\n",
       "        vertical-align: top;\n",
       "    }\n",
       "\n",
       "    .dataframe thead th {\n",
       "        text-align: right;\n",
       "    }\n",
       "</style>\n",
       "<table border=\"1\" class=\"dataframe tex2jax_ignore\">\n",
       "  <thead>\n",
       "    <tr style=\"text-align: right;\">\n",
       "      <th></th>\n",
       "      <th>age</th>\n",
       "      <th>sex</th>\n",
       "      <th>race</th>\n",
       "      <th>education</th>\n",
       "      <th>employment</th>\n",
       "      <th>incomes</th>\n",
       "      <th>books_last_12mo</th>\n",
       "      <th>audiobook_last_12mo</th>\n",
       "      <th>purchased_borrowed</th>\n",
       "    </tr>\n",
       "  </thead>\n",
       "  <tbody>\n",
       "    <tr>\n",
       "      <th>1</th>\n",
       "      <td>46</td>\n",
       "      <td>Male</td>\n",
       "      <td>Native American/American Indian</td>\n",
       "      <td>High school graduate</td>\n",
       "      <td>FT</td>\n",
       "      <td>1</td>\n",
       "      <td>97</td>\n",
       "      <td>1</td>\n",
       "      <td>Purchased</td>\n",
       "    </tr>\n",
       "    <tr>\n",
       "      <th>2</th>\n",
       "      <td>32</td>\n",
       "      <td>Male</td>\n",
       "      <td>Mixed race</td>\n",
       "      <td>High school graduate</td>\n",
       "      <td>FT</td>\n",
       "      <td>1</td>\n",
       "      <td>97</td>\n",
       "      <td>1</td>\n",
       "      <td>Borrowed</td>\n",
       "    </tr>\n",
       "    <tr>\n",
       "      <th>4</th>\n",
       "      <td>16</td>\n",
       "      <td>Female</td>\n",
       "      <td>Mixed race</td>\n",
       "      <td>High school incomplete</td>\n",
       "      <td>PT</td>\n",
       "      <td>2</td>\n",
       "      <td>97</td>\n",
       "      <td>1</td>\n",
       "      <td>Purchased</td>\n",
       "    </tr>\n",
       "    <tr>\n",
       "      <th>5</th>\n",
       "      <td>55</td>\n",
       "      <td>Female</td>\n",
       "      <td>Asian or Pacific Islander</td>\n",
       "      <td>Some college, no 4-year degree</td>\n",
       "      <td>SelfEmpl</td>\n",
       "      <td>5</td>\n",
       "      <td>97</td>\n",
       "      <td>1</td>\n",
       "      <td>Purchased</td>\n",
       "    </tr>\n",
       "    <tr>\n",
       "      <th>49</th>\n",
       "      <td>65</td>\n",
       "      <td>Female</td>\n",
       "      <td>White</td>\n",
       "      <td>Some college, no 4-year degree</td>\n",
       "      <td>PT</td>\n",
       "      <td>5</td>\n",
       "      <td>97</td>\n",
       "      <td>1</td>\n",
       "      <td>Purchased</td>\n",
       "    </tr>\n",
       "    <tr>\n",
       "      <th>...</th>\n",
       "      <td>...</td>\n",
       "      <td>...</td>\n",
       "      <td>...</td>\n",
       "      <td>...</td>\n",
       "      <td>...</td>\n",
       "      <td>...</td>\n",
       "      <td>...</td>\n",
       "      <td>...</td>\n",
       "      <td>...</td>\n",
       "    </tr>\n",
       "    <tr>\n",
       "      <th>2403</th>\n",
       "      <td>37</td>\n",
       "      <td>Male</td>\n",
       "      <td>White</td>\n",
       "      <td>College graduate</td>\n",
       "      <td>FT</td>\n",
       "      <td>6</td>\n",
       "      <td>1</td>\n",
       "      <td>1</td>\n",
       "      <td>Borrowed</td>\n",
       "    </tr>\n",
       "    <tr>\n",
       "      <th>2405</th>\n",
       "      <td>35</td>\n",
       "      <td>Male</td>\n",
       "      <td>White</td>\n",
       "      <td>Some college, no 4-year degree</td>\n",
       "      <td>NotEmpl</td>\n",
       "      <td>1</td>\n",
       "      <td>1</td>\n",
       "      <td>1</td>\n",
       "      <td>Borrowed</td>\n",
       "    </tr>\n",
       "    <tr>\n",
       "      <th>2423</th>\n",
       "      <td>27</td>\n",
       "      <td>Female</td>\n",
       "      <td>White</td>\n",
       "      <td>Some college, no 4-year degree</td>\n",
       "      <td>PT</td>\n",
       "      <td>6</td>\n",
       "      <td>1</td>\n",
       "      <td>1</td>\n",
       "      <td>Purchased</td>\n",
       "    </tr>\n",
       "    <tr>\n",
       "      <th>2429</th>\n",
       "      <td>23</td>\n",
       "      <td>Male</td>\n",
       "      <td>White</td>\n",
       "      <td>High school graduate</td>\n",
       "      <td>FT</td>\n",
       "      <td>2</td>\n",
       "      <td>1</td>\n",
       "      <td>1</td>\n",
       "      <td>Purchased</td>\n",
       "    </tr>\n",
       "    <tr>\n",
       "      <th>2431</th>\n",
       "      <td>22</td>\n",
       "      <td>Male</td>\n",
       "      <td>White</td>\n",
       "      <td>High school graduate</td>\n",
       "      <td>FT</td>\n",
       "      <td>8</td>\n",
       "      <td>1</td>\n",
       "      <td>1</td>\n",
       "      <td>Other</td>\n",
       "    </tr>\n",
       "  </tbody>\n",
       "</table>\n",
       "<p>367 rows × 9 columns</p>\n",
       "</div>"
      ],
      "text/plain": [
       "      age     sex                             race  \\\n",
       "1      46    Male  Native American/American Indian   \n",
       "2      32    Male                       Mixed race   \n",
       "4      16  Female                       Mixed race   \n",
       "5      55  Female        Asian or Pacific Islander   \n",
       "49     65  Female                            White   \n",
       "...   ...     ...                              ...   \n",
       "2403   37    Male                            White   \n",
       "2405   35    Male                            White   \n",
       "2423   27  Female                            White   \n",
       "2429   23    Male                            White   \n",
       "2431   22    Male                            White   \n",
       "\n",
       "                           education employment  incomes  books_last_12mo  \\\n",
       "1               High school graduate         FT        1               97   \n",
       "2               High school graduate         FT        1               97   \n",
       "4             High school incomplete         PT        2               97   \n",
       "5     Some college, no 4-year degree   SelfEmpl        5               97   \n",
       "49    Some college, no 4-year degree         PT        5               97   \n",
       "...                              ...        ...      ...              ...   \n",
       "2403                College graduate         FT        6                1   \n",
       "2405  Some college, no 4-year degree    NotEmpl        1                1   \n",
       "2423  Some college, no 4-year degree         PT        6                1   \n",
       "2429            High school graduate         FT        2                1   \n",
       "2431            High school graduate         FT        8                1   \n",
       "\n",
       "     audiobook_last_12mo purchased_borrowed  \n",
       "1                      1          Purchased  \n",
       "2                      1           Borrowed  \n",
       "4                      1          Purchased  \n",
       "5                      1          Purchased  \n",
       "49                     1          Purchased  \n",
       "...                  ...                ...  \n",
       "2403                   1           Borrowed  \n",
       "2405                   1           Borrowed  \n",
       "2423                   1          Purchased  \n",
       "2429                   1          Purchased  \n",
       "2431                   1              Other  \n",
       "\n",
       "[367 rows x 9 columns]"
      ]
     },
     "execution_count": 448,
     "metadata": {},
     "output_type": "execute_result"
    }
   ],
   "source": [
    "audiobook_lovers"
   ]
  },
  {
   "cell_type": "markdown",
   "id": "917e9242",
   "metadata": {},
   "source": [
    "Let's see the average age"
   ]
  },
  {
   "cell_type": "code",
   "execution_count": 449,
   "id": "99f737ba",
   "metadata": {},
   "outputs": [
    {
     "data": {
      "text/plain": [
       "46.85286103542234"
      ]
     },
     "execution_count": 449,
     "metadata": {},
     "output_type": "execute_result"
    }
   ],
   "source": [
    "audiobook_lovers.age.mean()"
   ]
  },
  {
   "cell_type": "code",
   "execution_count": 450,
   "id": "c23b2b6a",
   "metadata": {},
   "outputs": [
    {
     "data": {
      "image/png": "[encoded data removed]",
      "text/plain": [
       "<Figure size 900x500 with 1 Axes>"
      ]
     },
     "metadata": {},
     "output_type": "display_data"
    }
   ],
   "source": [
    "plt.hist(x = audiobook_lovers.age, bins=np.arange(10,95,5), color='purple');"
   ]
  },
  {
   "cell_type": "markdown",
   "id": "36555822",
   "metadata": {},
   "source": [
    "Let's see between which sex audiobooks are most popular:"
   ]
  },
  {
   "cell_type": "code",
   "execution_count": 451,
   "id": "1f7ba77c",
   "metadata": {},
   "outputs": [
    {
     "data": {
      "image/png": "[encoded data removed]",
      "text/plain": [
       "<Figure size 1200x600 with 1 Axes>"
      ]
     },
     "metadata": {},
     "output_type": "display_data"
    }
   ],
   "source": [
    "audiobook_sex_counts = audiobook_lovers.sex.value_counts()\n",
    "\n",
    "plt.figure(figsize=(12,6))\n",
    "plt.pie(audiobook_sex_counts, labels=audiobook_sex_counts.index, autopct='%1.1f%%', startangle=180);"
   ]
  },
  {
   "cell_type": "markdown",
   "id": "17acd5f9",
   "metadata": {},
   "source": [
    "I didn't expect audiobooks to be popular around 45/50 year old people, I thought it could be more appealing to young people."
   ]
  },
  {
   "cell_type": "markdown",
   "id": "a2e0c6e1",
   "metadata": {},
   "source": [
    "#### Q4: Among the most avid readers (50+ books) which percentage actually buy books?"
   ]
  },
  {
   "cell_type": "code",
   "execution_count": 452,
   "id": "14a3c061",
   "metadata": {},
   "outputs": [],
   "source": [
    "avid_readers = df[df.books_last_12mo > 50]"
   ]
  },
  {
   "cell_type": "code",
   "execution_count": 453,
   "id": "9b2e2e14",
   "metadata": {},
   "outputs": [
    {
     "data": {
      "text/html": [
       "<div>\n",
       "<style scoped>\n",
       "    .dataframe tbody tr th:only-of-type {\n",
       "        vertical-align: middle;\n",
       "    }\n",
       "\n",
       "    .dataframe tbody tr th {\n",
       "        vertical-align: top;\n",
       "    }\n",
       "\n",
       "    .dataframe thead th {\n",
       "        text-align: right;\n",
       "    }\n",
       "</style>\n",
       "<table border=\"1\" class=\"dataframe tex2jax_ignore\">\n",
       "  <thead>\n",
       "    <tr style=\"text-align: right;\">\n",
       "      <th></th>\n",
       "      <th>age</th>\n",
       "      <th>sex</th>\n",
       "      <th>race</th>\n",
       "      <th>education</th>\n",
       "      <th>employment</th>\n",
       "      <th>incomes</th>\n",
       "      <th>books_last_12mo</th>\n",
       "      <th>audiobook_last_12mo</th>\n",
       "      <th>purchased_borrowed</th>\n",
       "    </tr>\n",
       "  </thead>\n",
       "  <tbody>\n",
       "    <tr>\n",
       "      <th>0</th>\n",
       "      <td>66</td>\n",
       "      <td>Male</td>\n",
       "      <td>0</td>\n",
       "      <td>College graduate</td>\n",
       "      <td>Retired</td>\n",
       "      <td>3</td>\n",
       "      <td>97</td>\n",
       "      <td>0</td>\n",
       "      <td>Purchased</td>\n",
       "    </tr>\n",
       "    <tr>\n",
       "      <th>1</th>\n",
       "      <td>46</td>\n",
       "      <td>Male</td>\n",
       "      <td>Native American/American Indian</td>\n",
       "      <td>High school graduate</td>\n",
       "      <td>FT</td>\n",
       "      <td>1</td>\n",
       "      <td>97</td>\n",
       "      <td>1</td>\n",
       "      <td>Purchased</td>\n",
       "    </tr>\n",
       "    <tr>\n",
       "      <th>2</th>\n",
       "      <td>32</td>\n",
       "      <td>Male</td>\n",
       "      <td>Mixed race</td>\n",
       "      <td>High school graduate</td>\n",
       "      <td>FT</td>\n",
       "      <td>1</td>\n",
       "      <td>97</td>\n",
       "      <td>1</td>\n",
       "      <td>Borrowed</td>\n",
       "    </tr>\n",
       "    <tr>\n",
       "      <th>3</th>\n",
       "      <td>27</td>\n",
       "      <td>Male</td>\n",
       "      <td>Mixed race</td>\n",
       "      <td>High school graduate</td>\n",
       "      <td>FT</td>\n",
       "      <td>5</td>\n",
       "      <td>97</td>\n",
       "      <td>0</td>\n",
       "      <td>Borrowed</td>\n",
       "    </tr>\n",
       "    <tr>\n",
       "      <th>4</th>\n",
       "      <td>16</td>\n",
       "      <td>Female</td>\n",
       "      <td>Mixed race</td>\n",
       "      <td>High school incomplete</td>\n",
       "      <td>PT</td>\n",
       "      <td>2</td>\n",
       "      <td>97</td>\n",
       "      <td>1</td>\n",
       "      <td>Purchased</td>\n",
       "    </tr>\n",
       "    <tr>\n",
       "      <th>...</th>\n",
       "      <td>...</td>\n",
       "      <td>...</td>\n",
       "      <td>...</td>\n",
       "      <td>...</td>\n",
       "      <td>...</td>\n",
       "      <td>...</td>\n",
       "      <td>...</td>\n",
       "      <td>...</td>\n",
       "      <td>...</td>\n",
       "    </tr>\n",
       "    <tr>\n",
       "      <th>194</th>\n",
       "      <td>21</td>\n",
       "      <td>Female</td>\n",
       "      <td>White</td>\n",
       "      <td>Some college, no 4-year degree</td>\n",
       "      <td>NotEmpl</td>\n",
       "      <td>8</td>\n",
       "      <td>60</td>\n",
       "      <td>0</td>\n",
       "      <td>Purchased</td>\n",
       "    </tr>\n",
       "    <tr>\n",
       "      <th>197</th>\n",
       "      <td>66</td>\n",
       "      <td>Female</td>\n",
       "      <td>White</td>\n",
       "      <td>High school graduate</td>\n",
       "      <td>Retired</td>\n",
       "      <td>5</td>\n",
       "      <td>55</td>\n",
       "      <td>0</td>\n",
       "      <td>Purchased</td>\n",
       "    </tr>\n",
       "    <tr>\n",
       "      <th>198</th>\n",
       "      <td>47</td>\n",
       "      <td>Female</td>\n",
       "      <td>White</td>\n",
       "      <td>High school graduate</td>\n",
       "      <td>PT</td>\n",
       "      <td>3</td>\n",
       "      <td>54</td>\n",
       "      <td>0</td>\n",
       "      <td>Borrowed</td>\n",
       "    </tr>\n",
       "    <tr>\n",
       "      <th>200</th>\n",
       "      <td>29</td>\n",
       "      <td>Female</td>\n",
       "      <td>White</td>\n",
       "      <td>Post-graduate training/professional school aft...</td>\n",
       "      <td>FT</td>\n",
       "      <td>7</td>\n",
       "      <td>52</td>\n",
       "      <td>0</td>\n",
       "      <td>Purchased</td>\n",
       "    </tr>\n",
       "    <tr>\n",
       "      <th>201</th>\n",
       "      <td>21</td>\n",
       "      <td>Male</td>\n",
       "      <td>White</td>\n",
       "      <td>High school incomplete</td>\n",
       "      <td>FT</td>\n",
       "      <td>4</td>\n",
       "      <td>51</td>\n",
       "      <td>0</td>\n",
       "      <td>Other</td>\n",
       "    </tr>\n",
       "  </tbody>\n",
       "</table>\n",
       "<p>181 rows × 9 columns</p>\n",
       "</div>"
      ],
      "text/plain": [
       "     age     sex                             race  \\\n",
       "0     66    Male                                0   \n",
       "1     46    Male  Native American/American Indian   \n",
       "2     32    Male                       Mixed race   \n",
       "3     27    Male                       Mixed race   \n",
       "4     16  Female                       Mixed race   \n",
       "..   ...     ...                              ...   \n",
       "194   21  Female                            White   \n",
       "197   66  Female                            White   \n",
       "198   47  Female                            White   \n",
       "200   29  Female                            White   \n",
       "201   21    Male                            White   \n",
       "\n",
       "                                             education employment  incomes  \\\n",
       "0                                     College graduate    Retired        3   \n",
       "1                                 High school graduate         FT        1   \n",
       "2                                 High school graduate         FT        1   \n",
       "3                                 High school graduate         FT        5   \n",
       "4                               High school incomplete         PT        2   \n",
       "..                                                 ...        ...      ...   \n",
       "194                     Some college, no 4-year degree    NotEmpl        8   \n",
       "197                               High school graduate    Retired        5   \n",
       "198                               High school graduate         PT        3   \n",
       "200  Post-graduate training/professional school aft...         FT        7   \n",
       "201                             High school incomplete         FT        4   \n",
       "\n",
       "     books_last_12mo audiobook_last_12mo purchased_borrowed  \n",
       "0                 97                   0          Purchased  \n",
       "1                 97                   1          Purchased  \n",
       "2                 97                   1           Borrowed  \n",
       "3                 97                   0           Borrowed  \n",
       "4                 97                   1          Purchased  \n",
       "..               ...                 ...                ...  \n",
       "194               60                   0          Purchased  \n",
       "197               55                   0          Purchased  \n",
       "198               54                   0           Borrowed  \n",
       "200               52                   0          Purchased  \n",
       "201               51                   0              Other  \n",
       "\n",
       "[181 rows x 9 columns]"
      ]
     },
     "execution_count": 453,
     "metadata": {},
     "output_type": "execute_result"
    }
   ],
   "source": [
    "avid_readers"
   ]
  },
  {
   "cell_type": "code",
   "execution_count": 454,
   "id": "ed7f8426",
   "metadata": {},
   "outputs": [
    {
     "data": {
      "image/png": "[encoded data removed]",
      "text/plain": [
       "<Figure size 1200x600 with 1 Axes>"
      ]
     },
     "metadata": {},
     "output_type": "display_data"
    }
   ],
   "source": [
    "buyer_count = avid_readers.purchased_borrowed.value_counts()\n",
    "\n",
    "plt.figure(figsize=(12,6))\n",
    "plt.pie(buyer_count, labels=buyer_count.index, autopct='%1.1f%%', startangle=180);"
   ]
  },
  {
   "cell_type": "markdown",
   "id": "42cc1565",
   "metadata": {},
   "source": [
    "Very good! So those who love to read books also love to have them materially."
   ]
  },
  {
   "cell_type": "markdown",
   "id": "ea061a01",
   "metadata": {},
   "source": [
    "#### Q5  Are books a luxury among those who earn the minimum?"
   ]
  },
  {
   "cell_type": "markdown",
   "id": "fa57aba5",
   "metadata": {},
   "source": [
    "Let's see among those who don't earn a lot, how many of them actually buy books."
   ]
  },
  {
   "cell_type": "code",
   "execution_count": 461,
   "id": "b2e70479",
   "metadata": {},
   "outputs": [],
   "source": [
    "low_incomes = [1, 2, 3]\n",
    "poor = df[df.incomes.isin(low_incomes)]"
   ]
  },
  {
   "cell_type": "code",
   "execution_count": 462,
   "id": "361fa3f8",
   "metadata": {},
   "outputs": [
    {
     "data": {
      "text/html": [
       "<div>\n",
       "<style scoped>\n",
       "    .dataframe tbody tr th:only-of-type {\n",
       "        vertical-align: middle;\n",
       "    }\n",
       "\n",
       "    .dataframe tbody tr th {\n",
       "        vertical-align: top;\n",
       "    }\n",
       "\n",
       "    .dataframe thead th {\n",
       "        text-align: right;\n",
       "    }\n",
       "</style>\n",
       "<table border=\"1\" class=\"dataframe tex2jax_ignore\">\n",
       "  <thead>\n",
       "    <tr style=\"text-align: right;\">\n",
       "      <th></th>\n",
       "      <th>age</th>\n",
       "      <th>sex</th>\n",
       "      <th>race</th>\n",
       "      <th>education</th>\n",
       "      <th>employment</th>\n",
       "      <th>incomes</th>\n",
       "      <th>books_last_12mo</th>\n",
       "      <th>audiobook_last_12mo</th>\n",
       "      <th>purchased_borrowed</th>\n",
       "    </tr>\n",
       "  </thead>\n",
       "  <tbody>\n",
       "    <tr>\n",
       "      <th>0</th>\n",
       "      <td>66</td>\n",
       "      <td>Male</td>\n",
       "      <td>0</td>\n",
       "      <td>College graduate</td>\n",
       "      <td>Retired</td>\n",
       "      <td>3</td>\n",
       "      <td>97</td>\n",
       "      <td>0</td>\n",
       "      <td>Purchased</td>\n",
       "    </tr>\n",
       "    <tr>\n",
       "      <th>1</th>\n",
       "      <td>46</td>\n",
       "      <td>Male</td>\n",
       "      <td>Native American/American Indian</td>\n",
       "      <td>High school graduate</td>\n",
       "      <td>FT</td>\n",
       "      <td>1</td>\n",
       "      <td>97</td>\n",
       "      <td>1</td>\n",
       "      <td>Purchased</td>\n",
       "    </tr>\n",
       "    <tr>\n",
       "      <th>2</th>\n",
       "      <td>32</td>\n",
       "      <td>Male</td>\n",
       "      <td>Mixed race</td>\n",
       "      <td>High school graduate</td>\n",
       "      <td>FT</td>\n",
       "      <td>1</td>\n",
       "      <td>97</td>\n",
       "      <td>1</td>\n",
       "      <td>Borrowed</td>\n",
       "    </tr>\n",
       "    <tr>\n",
       "      <th>4</th>\n",
       "      <td>16</td>\n",
       "      <td>Female</td>\n",
       "      <td>Mixed race</td>\n",
       "      <td>High school incomplete</td>\n",
       "      <td>PT</td>\n",
       "      <td>2</td>\n",
       "      <td>97</td>\n",
       "      <td>1</td>\n",
       "      <td>Purchased</td>\n",
       "    </tr>\n",
       "    <tr>\n",
       "      <th>9</th>\n",
       "      <td>29</td>\n",
       "      <td>Female</td>\n",
       "      <td>Black or African-American</td>\n",
       "      <td>High school graduate</td>\n",
       "      <td>PT</td>\n",
       "      <td>1</td>\n",
       "      <td>97</td>\n",
       "      <td>0</td>\n",
       "      <td>Borrowed</td>\n",
       "    </tr>\n",
       "    <tr>\n",
       "      <th>...</th>\n",
       "      <td>...</td>\n",
       "      <td>...</td>\n",
       "      <td>...</td>\n",
       "      <td>...</td>\n",
       "      <td>...</td>\n",
       "      <td>...</td>\n",
       "      <td>...</td>\n",
       "      <td>...</td>\n",
       "      <td>...</td>\n",
       "    </tr>\n",
       "    <tr>\n",
       "      <th>2426</th>\n",
       "      <td>25</td>\n",
       "      <td>Female</td>\n",
       "      <td>White</td>\n",
       "      <td>Some college, no 4-year degree</td>\n",
       "      <td>PT</td>\n",
       "      <td>2</td>\n",
       "      <td>1</td>\n",
       "      <td>0</td>\n",
       "      <td>Purchased</td>\n",
       "    </tr>\n",
       "    <tr>\n",
       "      <th>2429</th>\n",
       "      <td>23</td>\n",
       "      <td>Male</td>\n",
       "      <td>White</td>\n",
       "      <td>High school graduate</td>\n",
       "      <td>FT</td>\n",
       "      <td>2</td>\n",
       "      <td>1</td>\n",
       "      <td>1</td>\n",
       "      <td>Purchased</td>\n",
       "    </tr>\n",
       "    <tr>\n",
       "      <th>2436</th>\n",
       "      <td>17</td>\n",
       "      <td>Female</td>\n",
       "      <td>White</td>\n",
       "      <td>High school graduate</td>\n",
       "      <td>NotEmpl</td>\n",
       "      <td>3</td>\n",
       "      <td>1</td>\n",
       "      <td>0</td>\n",
       "      <td>Borrowed</td>\n",
       "    </tr>\n",
       "    <tr>\n",
       "      <th>2438</th>\n",
       "      <td>16</td>\n",
       "      <td>Female</td>\n",
       "      <td>White</td>\n",
       "      <td>High school incomplete</td>\n",
       "      <td>NotEmpl</td>\n",
       "      <td>1</td>\n",
       "      <td>1</td>\n",
       "      <td>0</td>\n",
       "      <td>Borrowed</td>\n",
       "    </tr>\n",
       "    <tr>\n",
       "      <th>2441</th>\n",
       "      <td>16</td>\n",
       "      <td>Female</td>\n",
       "      <td>White</td>\n",
       "      <td>High school incomplete</td>\n",
       "      <td>NotEmpl</td>\n",
       "      <td>2</td>\n",
       "      <td>1</td>\n",
       "      <td>0</td>\n",
       "      <td>Borrowed</td>\n",
       "    </tr>\n",
       "  </tbody>\n",
       "</table>\n",
       "<p>467 rows × 9 columns</p>\n",
       "</div>"
      ],
      "text/plain": [
       "      age     sex                             race  \\\n",
       "0      66    Male                                0   \n",
       "1      46    Male  Native American/American Indian   \n",
       "2      32    Male                       Mixed race   \n",
       "4      16  Female                       Mixed race   \n",
       "9      29  Female        Black or African-American   \n",
       "...   ...     ...                              ...   \n",
       "2426   25  Female                            White   \n",
       "2429   23    Male                            White   \n",
       "2436   17  Female                            White   \n",
       "2438   16  Female                            White   \n",
       "2441   16  Female                            White   \n",
       "\n",
       "                           education employment  incomes  books_last_12mo  \\\n",
       "0                   College graduate    Retired        3               97   \n",
       "1               High school graduate         FT        1               97   \n",
       "2               High school graduate         FT        1               97   \n",
       "4             High school incomplete         PT        2               97   \n",
       "9               High school graduate         PT        1               97   \n",
       "...                              ...        ...      ...              ...   \n",
       "2426  Some college, no 4-year degree         PT        2                1   \n",
       "2429            High school graduate         FT        2                1   \n",
       "2436            High school graduate    NotEmpl        3                1   \n",
       "2438          High school incomplete    NotEmpl        1                1   \n",
       "2441          High school incomplete    NotEmpl        2                1   \n",
       "\n",
       "     audiobook_last_12mo purchased_borrowed  \n",
       "0                      0          Purchased  \n",
       "1                      1          Purchased  \n",
       "2                      1           Borrowed  \n",
       "4                      1          Purchased  \n",
       "9                      0           Borrowed  \n",
       "...                  ...                ...  \n",
       "2426                   0          Purchased  \n",
       "2429                   1          Purchased  \n",
       "2436                   0           Borrowed  \n",
       "2438                   0           Borrowed  \n",
       "2441                   0           Borrowed  \n",
       "\n",
       "[467 rows x 9 columns]"
      ]
     },
     "execution_count": 462,
     "metadata": {},
     "output_type": "execute_result"
    }
   ],
   "source": [
    "poor"
   ]
  },
  {
   "cell_type": "markdown",
   "id": "0d1f714d",
   "metadata": {},
   "source": [
    "Let's check what's the common education for those people:"
   ]
  },
  {
   "cell_type": "code",
   "execution_count": 463,
   "id": "551c0ef8",
   "metadata": {},
   "outputs": [
    {
     "data": {
      "image/png": "[encoded data removed]",
      "text/plain": [
       "<Figure size 900x500 with 1 Axes>"
      ]
     },
     "metadata": {},
     "output_type": "display_data"
    }
   ],
   "source": [
    "sns.countplot(y=poor.education)\n",
    "plt.xticks(rotation=75);\n",
    "plt.ylabel(None);"
   ]
  },
  {
   "cell_type": "markdown",
   "id": "347cffbb",
   "metadata": {},
   "source": [
    "Also let's check what's the average number of books read per year:"
   ]
  },
  {
   "cell_type": "code",
   "execution_count": 467,
   "id": "aa227ae4",
   "metadata": {},
   "outputs": [
    {
     "data": {
      "image/png": "[encoded data removed]",
      "text/plain": [
       "<Figure size 900x500 with 1 Axes>"
      ]
     },
     "metadata": {},
     "output_type": "display_data"
    }
   ],
   "source": [
    "plt.hist(x = poor.books_last_12mo, bins=np.arange(1,95,5), color='purple');"
   ]
  },
  {
   "cell_type": "markdown",
   "id": "e38d739b",
   "metadata": {},
   "source": [
    "Even among those who doesn't earn a lot, there's still a good chunck of people that decides to read books. Let's see how many of them buy books:"
   ]
  },
  {
   "cell_type": "code",
   "execution_count": 469,
   "id": "e5793d48",
   "metadata": {},
   "outputs": [
    {
     "data": {
      "image/png": "[encoded data removed]",
      "text/plain": [
       "<Figure size 1200x600 with 1 Axes>"
      ]
     },
     "metadata": {},
     "output_type": "display_data"
    }
   ],
   "source": [
    "poor_buyer_count = poor.purchased_borrowed.value_counts()\n",
    "\n",
    "plt.figure(figsize=(12,6))\n",
    "plt.pie(poor_buyer_count, labels=poor_buyer_count.index, autopct='%1.1f%%', startangle=180);"
   ]
  },
  {
   "cell_type": "markdown",
   "id": "0779c4b0",
   "metadata": {},
   "source": [
    "Almost a tie between bought and borrowed books. Let's check the lowest income available:"
   ]
  },
  {
   "cell_type": "code",
   "execution_count": 471,
   "id": "a7781229",
   "metadata": {},
   "outputs": [],
   "source": [
    "poorer = df[df.incomes == 1]"
   ]
  },
  {
   "cell_type": "code",
   "execution_count": 472,
   "id": "3185d275",
   "metadata": {},
   "outputs": [
    {
     "data": {
      "image/png": "[encoded data removed]",
      "text/plain": [
       "<Figure size 1200x600 with 1 Axes>"
      ]
     },
     "metadata": {},
     "output_type": "display_data"
    }
   ],
   "source": [
    "poorer_buyer_count = poorer.purchased_borrowed.value_counts()\n",
    "\n",
    "plt.figure(figsize=(12,6))\n",
    "plt.pie(poorer_buyer_count, labels=poorer_buyer_count.index, autopct='%1.1f%%', startangle=180);"
   ]
  },
  {
   "cell_type": "markdown",
   "id": "c83b1f96",
   "metadata": {},
   "source": [
    "Lovely to see that even in the lowest income range, there's people out there that decide to BUY books!"
   ]
  },
  {
   "cell_type": "markdown",
   "id": "99390096",
   "metadata": {},
   "source": [
    "# Conclusion"
   ]
  },
  {
   "cell_type": "markdown",
   "id": "28030af6",
   "metadata": {},
   "source": [
    "I've been quite surprised to discover that audiobooks appeal more 45/50 years old people than young people. I do find them quite innovative and super handy. But maybe since they're so handy, they're good for very busy people (workers, managers, parents), thanks to the fact that they can be heard anywhere and in any moment, they can be a blessing for people that doesn't have time to read.\n",
    "\n",
    "I am also very glad to have found out that even among people that doesn't earn a lot, reading is not a luxury: there's always a bit of money to spend in something as beautiful as a book! This is a lovely discover."
   ]
  },
  {
   "cell_type": "code",
   "execution_count": null,
   "id": "a8a60e35",
   "metadata": {},
   "outputs": [],
   "source": []
  }
 ],
 "metadata": {
  "kernelspec": {
   "display_name": "Python 3 (ipykernel)",
   "language": "python",
   "name": "python3"
  },
  "language_info": {
   "codemirror_mode": {
    "name": "ipython",
    "version": 3
   },
   "file_extension": ".py",
   "mimetype": "text/x-python",
   "name": "python",
   "nbconvert_exporter": "python",
   "pygments_lexer": "ipython3",
   "version": "3.10.10"
  }
 },
 "nbformat": 4,
 "nbformat_minor": 5
}
