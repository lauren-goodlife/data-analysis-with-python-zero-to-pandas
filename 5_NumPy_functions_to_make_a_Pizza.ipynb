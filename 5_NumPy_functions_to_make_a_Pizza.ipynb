{
 "cells": [
  {
   "cell_type": "markdown",
   "metadata": {
    "id": "PI2PbzEloa8-"
   },
   "source": [
    "\n",
    "# 5 NumPy functions to make a Pizza\n",
    "\n",
    "NumPy is a Python library developed to optimize mathematical (and not only) operations, that usually takes more time and effort when done with raw Python. \n",
    "NumPy optimize memory: since Python store everything as an \"object\", these take much more space than, for example, a simple int or a float. NumPy does this: it stores data for what they are and optimizing a lot of operations which would require much more code in Python.\n",
    "\n",
    "These are the NumPy functions I chose in order to mimic the process of making a pizza!\n",
    "\n",
    "- function 1 - np.squeeze\n",
    "- function 2 - np.roll\n",
    "- function 3 - np.flip\n",
    "- function 4 - np.split\n",
    "- function 5 - np.repeat\n"
   ]
  },
  {
   "cell_type": "code",
   "execution_count": null,
   "metadata": {
    "id": "ytp4A1oAoa9I"
   },
   "outputs": [],
   "source": [
    "import numpy as np"
   ]
  },
  {
   "cell_type": "markdown",
   "metadata": {
    "id": "5QtZUHmXoa9J"
   },
   "source": [
    "##### Firstly, let's **squeeze** our dough...\n",
    "<img src=\"https://i.imgur.com/t8Qhfwx.jpg\"></img>\n",
    "## Function 1 - **np.squeeze**\n",
    "\n",
    "The np.squeeze function helps us get rid of unnecessary one-dimensional lines. E.g. [[[7,8,9]]] would be squeezed in [7,8,9]. "
   ]
  },
  {
   "cell_type": "code",
   "execution_count": null,
   "metadata": {
    "colab": {
     "base_uri": "https://localhost:8080/"
    },
    "id": "SX-nrfLooa9K",
    "outputId": "0968e6ee-486a-4010-a0bc-6635ff144a56"
   },
   "outputs": [
    {
     "name": "stdout",
     "output_type": "stream",
     "text": [
      "This is our array: [[[1 2 3]]]\n",
      "This is the current shape of the array (1, 1, 3)\n",
      "This is our squeezed array [1 2 3]\n",
      "This is the new shape of the squeezed array (3,)\n"
     ]
    }
   ],
   "source": [
    "# Example 1 - working \n",
    "arr1 = np.array([\n",
    "      [\n",
    "        [1,2,3]\n",
    "      ]\n",
    "    ])\n",
    "\n",
    "print(\"This is our array:\", arr1)\n",
    "print(\"This is the current shape of the array\", arr1.shape)\n",
    "\n",
    "arr1_squeezed = np.squeeze(arr1)\n",
    "print(\"This is our squeezed array\", arr1_squeezed)\n",
    "print(\"This is the new shape of the squeezed array\", arr1_squeezed.shape)"
   ]
  },
  {
   "cell_type": "markdown",
   "metadata": {
    "id": "1wo6BIdsoa9L"
   },
   "source": [
    "We have used np.squeeze to get rid of extra one-dimensional lines, making it more versatile.\n"
   ]
  },
  {
   "cell_type": "code",
   "execution_count": null,
   "metadata": {
    "colab": {
     "base_uri": "https://localhost:8080/"
    },
    "id": "IFdZAk0coa9M",
    "outputId": "6e40329c-651a-4567-e0df-2b5551e2fc0e"
   },
   "outputs": [
    {
     "name": "stdout",
     "output_type": "stream",
     "text": [
      "This is our array:\n",
      " [[[1]\n",
      "  [2]\n",
      "  [3]]]\n",
      "This is the current shape of the array (1, 3, 1)\n",
      "This is our squeezed array, along the axis=0\n",
      " [[1]\n",
      " [2]\n",
      " [3]]\n",
      "This is the new shape of the squeezed array (3, 1)\n",
      "This is our squeezed array, along the axis=2\n",
      " [[1 2 3]]\n",
      "This is the new shape of the squeezed array (1, 3)\n"
     ]
    }
   ],
   "source": [
    "# Example 2 - working\n",
    "arr1 = np.array([\n",
    "      [\n",
    "        [1],\n",
    "        [2],\n",
    "        [3]\n",
    "      ]\n",
    "    ])\n",
    "\n",
    "print(\"This is our array:\\n\", arr1)\n",
    "print(\"This is the current shape of the array\", arr1.shape)\n",
    "\n",
    "##Squeezing axis=0\n",
    "\n",
    "arr1_squeezed0 = np.squeeze(arr1, axis=0)\n",
    "print(\"This is our squeezed array, along the axis=0\\n\", arr1_squeezed0)\n",
    "print(\"This is the new shape of the squeezed array\", arr1_squeezed0.shape)\n",
    "\n",
    "\n",
    "##Squeezing axis=2\n",
    "\n",
    "arr1_squeezed2 = np.squeeze(arr1, axis=2)\n",
    "print(\"This is our squeezed array, along the axis=2\\n\", arr1_squeezed2)\n",
    "print(\"This is the new shape of the squeezed array\", arr1_squeezed2.shape)\n",
    "\n",
    "\n"
   ]
  },
  {
   "cell_type": "markdown",
   "metadata": {
    "id": "Pu-hcLZToa9M"
   },
   "source": [
    "It is also possible to squeeze a specific axis only. In the example above we squeezed axis=0 and axis=2, which are the only one-dimensionals axis."
   ]
  },
  {
   "cell_type": "code",
   "execution_count": null,
   "metadata": {
    "colab": {
     "base_uri": "https://localhost:8080/",
     "height": 461
    },
    "id": "0uRJqKpuoa9N",
    "outputId": "c8a6e681-7e28-4c56-a153-47d71a22a929"
   },
   "outputs": [
    {
     "name": "stdout",
     "output_type": "stream",
     "text": [
      "This is our array:\n",
      " [[1 2 3]\n",
      " [4 5 6]]\n",
      "This is the current shape of the array (2, 3)\n"
     ]
    },
    {
     "ename": "ValueError",
     "evalue": "ignored",
     "output_type": "error",
     "traceback": [
      "\u001b[0;31m---------------------------------------------------------------------------\u001b[0m",
      "\u001b[0;31mValueError\u001b[0m                                Traceback (most recent call last)",
      "\u001b[0;32m<ipython-input-49-6c031d693a60>\u001b[0m in \u001b[0;36m<module>\u001b[0;34m\u001b[0m\n\u001b[1;32m     10\u001b[0m \u001b[0;31m##Squeezing axis=0, which is not one-dimensional\u001b[0m\u001b[0;34m\u001b[0m\u001b[0;34m\u001b[0m\u001b[0;34m\u001b[0m\u001b[0m\n\u001b[1;32m     11\u001b[0m \u001b[0;34m\u001b[0m\u001b[0m\n\u001b[0;32m---> 12\u001b[0;31m \u001b[0marr1_squeezed0\u001b[0m \u001b[0;34m=\u001b[0m \u001b[0mnp\u001b[0m\u001b[0;34m.\u001b[0m\u001b[0msqueeze\u001b[0m\u001b[0;34m(\u001b[0m\u001b[0marr1\u001b[0m\u001b[0;34m,\u001b[0m \u001b[0maxis\u001b[0m\u001b[0;34m=\u001b[0m\u001b[0;36m0\u001b[0m\u001b[0;34m)\u001b[0m\u001b[0;34m\u001b[0m\u001b[0;34m\u001b[0m\u001b[0m\n\u001b[0m\u001b[1;32m     13\u001b[0m \u001b[0mprint\u001b[0m\u001b[0;34m(\u001b[0m\u001b[0;34m\"This is our squeezed array, along the axis=0\\n\"\u001b[0m\u001b[0;34m,\u001b[0m \u001b[0marr1_squeezed0\u001b[0m\u001b[0;34m)\u001b[0m\u001b[0;34m\u001b[0m\u001b[0;34m\u001b[0m\u001b[0m\n\u001b[1;32m     14\u001b[0m \u001b[0mprint\u001b[0m\u001b[0;34m(\u001b[0m\u001b[0;34m\"This is the new shape of the squeezed array\"\u001b[0m\u001b[0;34m,\u001b[0m \u001b[0marr1_squeezed0\u001b[0m\u001b[0;34m.\u001b[0m\u001b[0mshape\u001b[0m\u001b[0;34m)\u001b[0m\u001b[0;34m\u001b[0m\u001b[0;34m\u001b[0m\u001b[0m\n",
      "\u001b[0;32m<__array_function__ internals>\u001b[0m in \u001b[0;36msqueeze\u001b[0;34m(*args, **kwargs)\u001b[0m\n",
      "\u001b[0;32m/usr/local/lib/python3.8/dist-packages/numpy/core/fromnumeric.py\u001b[0m in \u001b[0;36msqueeze\u001b[0;34m(a, axis)\u001b[0m\n\u001b[1;32m   1506\u001b[0m         \u001b[0;32mreturn\u001b[0m \u001b[0msqueeze\u001b[0m\u001b[0;34m(\u001b[0m\u001b[0;34m)\u001b[0m\u001b[0;34m\u001b[0m\u001b[0;34m\u001b[0m\u001b[0m\n\u001b[1;32m   1507\u001b[0m     \u001b[0;32melse\u001b[0m\u001b[0;34m:\u001b[0m\u001b[0;34m\u001b[0m\u001b[0;34m\u001b[0m\u001b[0m\n\u001b[0;32m-> 1508\u001b[0;31m         \u001b[0;32mreturn\u001b[0m \u001b[0msqueeze\u001b[0m\u001b[0;34m(\u001b[0m\u001b[0maxis\u001b[0m\u001b[0;34m=\u001b[0m\u001b[0maxis\u001b[0m\u001b[0;34m)\u001b[0m\u001b[0;34m\u001b[0m\u001b[0;34m\u001b[0m\u001b[0m\n\u001b[0m\u001b[1;32m   1509\u001b[0m \u001b[0;34m\u001b[0m\u001b[0m\n\u001b[1;32m   1510\u001b[0m \u001b[0;34m\u001b[0m\u001b[0m\n",
      "\u001b[0;31mValueError\u001b[0m: cannot select an axis to squeeze out which has size not equal to one"
     ]
    }
   ],
   "source": [
    "# Example 3 - breaking (to illustrate when it breaks)\n",
    "arr1 = np.array([\n",
    "      [1,2,3],\n",
    "      [4,5,6]\n",
    "    ])\n",
    "\n",
    "print(\"This is our array:\\n\", arr1)\n",
    "print(\"This is the current shape of the array\", arr1.shape)\n",
    "\n",
    "##Squeezing axis=0, which is not one-dimensional\n",
    "\n",
    "arr1_squeezed0 = np.squeeze(arr1, axis=0)\n",
    "print(\"This is our squeezed array, along the axis=0\\n\", arr1_squeezed0)\n",
    "print(\"This is the new shape of the squeezed array\", arr1_squeezed0.shape)"
   ]
  },
  {
   "cell_type": "markdown",
   "metadata": {
    "id": "X4UtBL35oa9N"
   },
   "source": [
    "In the example above we tried to squeeze axis=0, which is not one-dimensional. In fact, the error is quite self-explanatory: cannot select an axis to squeeze out which has size not equal to one\n",
    "\n"
   ]
  },
  {
   "cell_type": "markdown",
   "metadata": {
    "id": "02XaDmm2Vb7a"
   },
   "source": [
    "The np.squeeze function is useful to clean and better organize arrays that have been transformed many times."
   ]
  },
  {
   "cell_type": "markdown",
   "metadata": {
    "id": "IXNAkGoRoa9O"
   },
   "source": [
    "\n"
   ]
  },
  {
   "cell_type": "markdown",
   "metadata": {
    "id": "b8pZwBMJoa9O"
   },
   "source": [
    "##### Secondly, let's **roll** our dough and make a nice circular shape...\n",
    "<img src=\"https://i.imgur.com/3LyeW4j.jpg\"></img>\n",
    "## Function 2 - **np.roll**\n",
    "\n",
    "The np.roll function rolls elements inside an array along a given axis."
   ]
  },
  {
   "cell_type": "code",
   "execution_count": null,
   "metadata": {
    "colab": {
     "base_uri": "https://localhost:8080/"
    },
    "id": "uMDRKJ80oa9P",
    "outputId": "6234bf2d-e9ab-4c16-9c01-d9d62d657353"
   },
   "outputs": [
    {
     "name": "stdout",
     "output_type": "stream",
     "text": [
      "This is the original array\n",
      " [[0 1]\n",
      " [2 3]]\n",
      "This is a rolled array, shifted by 1 position\n",
      " [[3 0]\n",
      " [1 2]]\n"
     ]
    }
   ],
   "source": [
    "# Example 1 - working\n",
    "array = np.arange(4).reshape(2,2)\n",
    "print(\"This is the original array\\n\", array)\n",
    "\n",
    "#they see me rolling, they hating\n",
    "\n",
    "rolled_array = np.roll(array, 1)\n",
    "print(\"This is a rolled array, shifted by 1 position\\n\", rolled_array)"
   ]
  },
  {
   "cell_type": "markdown",
   "metadata": {
    "id": "ikquJXxFoa9P"
   },
   "source": [
    "Each element is shifted by one position to the right. The \"3\", which rolled beyond the last position is re-introduced at the beginning."
   ]
  },
  {
   "cell_type": "code",
   "execution_count": null,
   "metadata": {
    "colab": {
     "base_uri": "https://localhost:8080/"
    },
    "id": "qziw_Njeoa9P",
    "outputId": "49ccc118-8c6a-4bbf-cd73-ccba62656642"
   },
   "outputs": [
    {
     "name": "stdout",
     "output_type": "stream",
     "text": [
      "This is the original array\n",
      " [[0 1 2]\n",
      " [3 4 5]\n",
      " [6 7 8]]\n",
      "This is the rolled array\n",
      " [[6 7 8]\n",
      " [0 1 2]\n",
      " [3 4 5]]\n"
     ]
    }
   ],
   "source": [
    "# Example 2 - working\n",
    "array2 = np.arange(9).reshape(3,3)\n",
    "print(\"This is the original array\\n\", array2)\n",
    "\n",
    "#rolling along the axis 0, shifting of one position (rows)\n",
    "rolled_array_rows = np.roll(array2, 1, axis=0)\n",
    "print(\"This is the rolled array\\n\", rolled_array_rows)\n",
    "\n"
   ]
  },
  {
   "cell_type": "markdown",
   "metadata": {
    "id": "pWBe1Mm7oa9Q"
   },
   "source": [
    "In the example above, we shifted rows, not just elements. In fact, the last row is introduced at the beginning."
   ]
  },
  {
   "cell_type": "code",
   "execution_count": null,
   "metadata": {
    "colab": {
     "base_uri": "https://localhost:8080/",
     "height": 433
    },
    "id": "jxTuz7psoa9Q",
    "outputId": "eb69a42e-14a4-4a77-9129-c2711696088a"
   },
   "outputs": [
    {
     "name": "stdout",
     "output_type": "stream",
     "text": [
      "This is the original array\n",
      " [0 1 2 3 4]\n"
     ]
    },
    {
     "ename": "AxisError",
     "evalue": "ignored",
     "output_type": "error",
     "traceback": [
      "\u001b[0;31m---------------------------------------------------------------------------\u001b[0m",
      "\u001b[0;31mAxisError\u001b[0m                                 Traceback (most recent call last)",
      "\u001b[0;32m<ipython-input-29-51ffbc05bebd>\u001b[0m in \u001b[0;36m<module>\u001b[0;34m\u001b[0m\n\u001b[1;32m      5\u001b[0m \u001b[0;34m\u001b[0m\u001b[0m\n\u001b[1;32m      6\u001b[0m \u001b[0;31m#rolling\u001b[0m\u001b[0;34m\u001b[0m\u001b[0;34m\u001b[0m\u001b[0;34m\u001b[0m\u001b[0m\n\u001b[0;32m----> 7\u001b[0;31m \u001b[0mrolled_broken_array\u001b[0m \u001b[0;34m=\u001b[0m \u001b[0mnp\u001b[0m\u001b[0;34m.\u001b[0m\u001b[0mroll\u001b[0m\u001b[0;34m(\u001b[0m\u001b[0marray3\u001b[0m\u001b[0;34m,\u001b[0m \u001b[0;36m1\u001b[0m\u001b[0;34m,\u001b[0m \u001b[0maxis\u001b[0m\u001b[0;34m=\u001b[0m\u001b[0;36m1\u001b[0m\u001b[0;34m)\u001b[0m\u001b[0;34m\u001b[0m\u001b[0;34m\u001b[0m\u001b[0m\n\u001b[0m\u001b[1;32m      8\u001b[0m \u001b[0mprint\u001b[0m\u001b[0;34m(\u001b[0m\u001b[0;34m\"This won't be printed because it's not correct\"\u001b[0m\u001b[0;34m,\u001b[0m \u001b[0mrolled_broken_array\u001b[0m\u001b[0;34m)\u001b[0m\u001b[0;34m\u001b[0m\u001b[0;34m\u001b[0m\u001b[0m\n",
      "\u001b[0;32m<__array_function__ internals>\u001b[0m in \u001b[0;36mroll\u001b[0;34m(*args, **kwargs)\u001b[0m\n",
      "\u001b[0;32m/usr/local/lib/python3.8/dist-packages/numpy/core/numeric.py\u001b[0m in \u001b[0;36mroll\u001b[0;34m(a, shift, axis)\u001b[0m\n\u001b[1;32m   1214\u001b[0m \u001b[0;34m\u001b[0m\u001b[0m\n\u001b[1;32m   1215\u001b[0m     \u001b[0;32melse\u001b[0m\u001b[0;34m:\u001b[0m\u001b[0;34m\u001b[0m\u001b[0;34m\u001b[0m\u001b[0m\n\u001b[0;32m-> 1216\u001b[0;31m         \u001b[0maxis\u001b[0m \u001b[0;34m=\u001b[0m \u001b[0mnormalize_axis_tuple\u001b[0m\u001b[0;34m(\u001b[0m\u001b[0maxis\u001b[0m\u001b[0;34m,\u001b[0m \u001b[0ma\u001b[0m\u001b[0;34m.\u001b[0m\u001b[0mndim\u001b[0m\u001b[0;34m,\u001b[0m \u001b[0mallow_duplicate\u001b[0m\u001b[0;34m=\u001b[0m\u001b[0;32mTrue\u001b[0m\u001b[0;34m)\u001b[0m\u001b[0;34m\u001b[0m\u001b[0;34m\u001b[0m\u001b[0m\n\u001b[0m\u001b[1;32m   1217\u001b[0m         \u001b[0mbroadcasted\u001b[0m \u001b[0;34m=\u001b[0m \u001b[0mbroadcast\u001b[0m\u001b[0;34m(\u001b[0m\u001b[0mshift\u001b[0m\u001b[0;34m,\u001b[0m \u001b[0maxis\u001b[0m\u001b[0;34m)\u001b[0m\u001b[0;34m\u001b[0m\u001b[0;34m\u001b[0m\u001b[0m\n\u001b[1;32m   1218\u001b[0m         \u001b[0;32mif\u001b[0m \u001b[0mbroadcasted\u001b[0m\u001b[0;34m.\u001b[0m\u001b[0mndim\u001b[0m \u001b[0;34m>\u001b[0m \u001b[0;36m1\u001b[0m\u001b[0;34m:\u001b[0m\u001b[0;34m\u001b[0m\u001b[0;34m\u001b[0m\u001b[0m\n",
      "\u001b[0;32m/usr/local/lib/python3.8/dist-packages/numpy/core/numeric.py\u001b[0m in \u001b[0;36mnormalize_axis_tuple\u001b[0;34m(axis, ndim, argname, allow_duplicate)\u001b[0m\n\u001b[1;32m   1383\u001b[0m             \u001b[0;32mpass\u001b[0m\u001b[0;34m\u001b[0m\u001b[0;34m\u001b[0m\u001b[0m\n\u001b[1;32m   1384\u001b[0m     \u001b[0;31m# Going via an iterator directly is slower than via list comprehension.\u001b[0m\u001b[0;34m\u001b[0m\u001b[0;34m\u001b[0m\u001b[0;34m\u001b[0m\u001b[0m\n\u001b[0;32m-> 1385\u001b[0;31m     \u001b[0maxis\u001b[0m \u001b[0;34m=\u001b[0m \u001b[0mtuple\u001b[0m\u001b[0;34m(\u001b[0m\u001b[0;34m[\u001b[0m\u001b[0mnormalize_axis_index\u001b[0m\u001b[0;34m(\u001b[0m\u001b[0max\u001b[0m\u001b[0;34m,\u001b[0m \u001b[0mndim\u001b[0m\u001b[0;34m,\u001b[0m \u001b[0margname\u001b[0m\u001b[0;34m)\u001b[0m \u001b[0;32mfor\u001b[0m \u001b[0max\u001b[0m \u001b[0;32min\u001b[0m \u001b[0maxis\u001b[0m\u001b[0;34m]\u001b[0m\u001b[0;34m)\u001b[0m\u001b[0;34m\u001b[0m\u001b[0;34m\u001b[0m\u001b[0m\n\u001b[0m\u001b[1;32m   1386\u001b[0m     \u001b[0;32mif\u001b[0m \u001b[0;32mnot\u001b[0m \u001b[0mallow_duplicate\u001b[0m \u001b[0;32mand\u001b[0m \u001b[0mlen\u001b[0m\u001b[0;34m(\u001b[0m\u001b[0mset\u001b[0m\u001b[0;34m(\u001b[0m\u001b[0maxis\u001b[0m\u001b[0;34m)\u001b[0m\u001b[0;34m)\u001b[0m \u001b[0;34m!=\u001b[0m \u001b[0mlen\u001b[0m\u001b[0;34m(\u001b[0m\u001b[0maxis\u001b[0m\u001b[0;34m)\u001b[0m\u001b[0;34m:\u001b[0m\u001b[0;34m\u001b[0m\u001b[0;34m\u001b[0m\u001b[0m\n\u001b[1;32m   1387\u001b[0m         \u001b[0;32mif\u001b[0m \u001b[0margname\u001b[0m\u001b[0;34m:\u001b[0m\u001b[0;34m\u001b[0m\u001b[0;34m\u001b[0m\u001b[0m\n",
      "\u001b[0;32m/usr/local/lib/python3.8/dist-packages/numpy/core/numeric.py\u001b[0m in \u001b[0;36m<listcomp>\u001b[0;34m(.0)\u001b[0m\n\u001b[1;32m   1383\u001b[0m             \u001b[0;32mpass\u001b[0m\u001b[0;34m\u001b[0m\u001b[0;34m\u001b[0m\u001b[0m\n\u001b[1;32m   1384\u001b[0m     \u001b[0;31m# Going via an iterator directly is slower than via list comprehension.\u001b[0m\u001b[0;34m\u001b[0m\u001b[0;34m\u001b[0m\u001b[0;34m\u001b[0m\u001b[0m\n\u001b[0;32m-> 1385\u001b[0;31m     \u001b[0maxis\u001b[0m \u001b[0;34m=\u001b[0m \u001b[0mtuple\u001b[0m\u001b[0;34m(\u001b[0m\u001b[0;34m[\u001b[0m\u001b[0mnormalize_axis_index\u001b[0m\u001b[0;34m(\u001b[0m\u001b[0max\u001b[0m\u001b[0;34m,\u001b[0m \u001b[0mndim\u001b[0m\u001b[0;34m,\u001b[0m \u001b[0margname\u001b[0m\u001b[0;34m)\u001b[0m \u001b[0;32mfor\u001b[0m \u001b[0max\u001b[0m \u001b[0;32min\u001b[0m \u001b[0maxis\u001b[0m\u001b[0;34m]\u001b[0m\u001b[0;34m)\u001b[0m\u001b[0;34m\u001b[0m\u001b[0;34m\u001b[0m\u001b[0m\n\u001b[0m\u001b[1;32m   1386\u001b[0m     \u001b[0;32mif\u001b[0m \u001b[0;32mnot\u001b[0m \u001b[0mallow_duplicate\u001b[0m \u001b[0;32mand\u001b[0m \u001b[0mlen\u001b[0m\u001b[0;34m(\u001b[0m\u001b[0mset\u001b[0m\u001b[0;34m(\u001b[0m\u001b[0maxis\u001b[0m\u001b[0;34m)\u001b[0m\u001b[0;34m)\u001b[0m \u001b[0;34m!=\u001b[0m \u001b[0mlen\u001b[0m\u001b[0;34m(\u001b[0m\u001b[0maxis\u001b[0m\u001b[0;34m)\u001b[0m\u001b[0;34m:\u001b[0m\u001b[0;34m\u001b[0m\u001b[0;34m\u001b[0m\u001b[0m\n\u001b[1;32m   1387\u001b[0m         \u001b[0;32mif\u001b[0m \u001b[0margname\u001b[0m\u001b[0;34m:\u001b[0m\u001b[0;34m\u001b[0m\u001b[0;34m\u001b[0m\u001b[0m\n",
      "\u001b[0;31mAxisError\u001b[0m: axis 1 is out of bounds for array of dimension 1"
     ]
    }
   ],
   "source": [
    "# Example 3 - breaking (to illustrate when it breaks)\n",
    "\n",
    "array3 = np.arange(5)\n",
    "print(\"This is the original array\\n\", array3)\n",
    "\n",
    "#rolling\n",
    "rolled_broken_array = np.roll(array3, 1, axis=1)\n",
    "print(\"This won't be printed because it's not correct\", rolled_broken_array)"
   ]
  },
  {
   "cell_type": "markdown",
   "metadata": {
    "id": "tB2rAFiToa9Q"
   },
   "source": [
    "Trying to roll along an axis which isn't part of the array will throw an error.\n",
    "\n",
    "---\n",
    "\n"
   ]
  },
  {
   "cell_type": "markdown",
   "metadata": {
    "id": "iHH8xLSooa9R"
   },
   "source": [
    "##### Then **flip** in the air your pizza, do it a couple of times and bake it...\n",
    "<img src=\"https://i.imgur.com/KeELaTx.jpg\"></img>\n",
    "## Function 3 - **np.flip**\n",
    "\n",
    "The np.flip function reverse elements inside an array along the given axis."
   ]
  },
  {
   "cell_type": "code",
   "execution_count": null,
   "metadata": {
    "colab": {
     "base_uri": "https://localhost:8080/"
    },
    "id": "GFk_eySNoa9R",
    "outputId": "e0511bb7-ed3c-4710-f3c1-b445a792354a"
   },
   "outputs": [
    {
     "name": "stdout",
     "output_type": "stream",
     "text": [
      "This is the original array [1 2 3 4 5]\n",
      "This is the flipped array [5 4 3 2 1]\n"
     ]
    }
   ],
   "source": [
    "# Example 1 - working\n",
    "array = np.array([1,2,3,4,5])\n",
    "print(\"This is the original array\", array)\n",
    "array_flipped = np.flip(array)\n",
    "print(\"This is the flipped array\", array_flipped)"
   ]
  },
  {
   "cell_type": "markdown",
   "metadata": {
    "id": "1HLPKUojoa9S"
   },
   "source": [
    "\n",
    "This is a simple example with a 1D array, which has a single axis (axis=0)"
   ]
  },
  {
   "cell_type": "code",
   "execution_count": null,
   "metadata": {
    "colab": {
     "base_uri": "https://localhost:8080/"
    },
    "id": "WjNh-QZ9oa9S",
    "outputId": "06df8c43-96db-4a13-b39f-4ec81f8b03eb"
   },
   "outputs": [
    {
     "name": "stdout",
     "output_type": "stream",
     "text": [
      "This is the original array\n",
      " [[ 1  2  3  4  5]\n",
      " [ 6  7  8  9 10]]\n",
      "This is the flipped array (axis=0)\n",
      " [[ 6  7  8  9 10]\n",
      " [ 1  2  3  4  5]]\n",
      "This is the flipped array (axis=1)\n",
      " [[ 5  4  3  2  1]\n",
      " [10  9  8  7  6]]\n"
     ]
    }
   ],
   "source": [
    "# Example 2 - working\n",
    "array = np.array(\n",
    "    [\n",
    "        [1,2,3,4,5],\n",
    "        [6,7,8,9,10]\n",
    "    ])\n",
    "print(\"This is the original array\\n\", array)\n",
    "array_flipped = np.flip(array, axis=0)\n",
    "print(\"This is the flipped array (axis=0)\\n\", array_flipped)\n",
    "array_flipped_2 = np.flip(array, axis=1)\n",
    "print(\"This is the flipped array (axis=1)\\n\", array_flipped_2)"
   ]
  },
  {
   "cell_type": "markdown",
   "metadata": {
    "id": "txzVfRpToa9S"
   },
   "source": [
    "This is an example with a 2D array: specifying axis=0 we flipped the array's rows, while specifying axis=1 we flipped the array columns."
   ]
  },
  {
   "cell_type": "code",
   "execution_count": null,
   "metadata": {
    "colab": {
     "base_uri": "https://localhost:8080/",
     "height": 381
    },
    "id": "iplVjcbZoa9S",
    "outputId": "32f1dc8d-cf94-4a90-98e3-c2b926684982"
   },
   "outputs": [
    {
     "ename": "AxisError",
     "evalue": "ignored",
     "output_type": "error",
     "traceback": [
      "\u001b[0;31m---------------------------------------------------------------------------\u001b[0m",
      "\u001b[0;31mAxisError\u001b[0m                                 Traceback (most recent call last)",
      "\u001b[0;32m<ipython-input-15-ee21209f1f8d>\u001b[0m in \u001b[0;36m<module>\u001b[0;34m\u001b[0m\n\u001b[1;32m      1\u001b[0m \u001b[0;31m# Example 3 - breaking (to illustrate when it breaks)\u001b[0m\u001b[0;34m\u001b[0m\u001b[0;34m\u001b[0m\u001b[0;34m\u001b[0m\u001b[0m\n\u001b[1;32m      2\u001b[0m \u001b[0marray\u001b[0m \u001b[0;34m=\u001b[0m \u001b[0mnp\u001b[0m\u001b[0;34m.\u001b[0m\u001b[0marray\u001b[0m\u001b[0;34m(\u001b[0m\u001b[0;34m[\u001b[0m\u001b[0;36m1\u001b[0m\u001b[0;34m,\u001b[0m\u001b[0;36m2\u001b[0m\u001b[0;34m,\u001b[0m\u001b[0;36m3\u001b[0m\u001b[0;34m,\u001b[0m\u001b[0;36m4\u001b[0m\u001b[0;34m,\u001b[0m\u001b[0;36m5\u001b[0m\u001b[0;34m]\u001b[0m\u001b[0;34m)\u001b[0m\u001b[0;34m\u001b[0m\u001b[0;34m\u001b[0m\u001b[0m\n\u001b[0;32m----> 3\u001b[0;31m \u001b[0mflipped_array\u001b[0m \u001b[0;34m=\u001b[0m \u001b[0mnp\u001b[0m\u001b[0;34m.\u001b[0m\u001b[0mflip\u001b[0m\u001b[0;34m(\u001b[0m\u001b[0marray\u001b[0m\u001b[0;34m,\u001b[0m \u001b[0maxis\u001b[0m\u001b[0;34m=\u001b[0m\u001b[0;36m1\u001b[0m\u001b[0;34m)\u001b[0m\u001b[0;34m\u001b[0m\u001b[0;34m\u001b[0m\u001b[0m\n\u001b[0m",
      "\u001b[0;32m<__array_function__ internals>\u001b[0m in \u001b[0;36mflip\u001b[0;34m(*args, **kwargs)\u001b[0m\n",
      "\u001b[0;32m/usr/local/lib/python3.8/dist-packages/numpy/lib/function_base.py\u001b[0m in \u001b[0;36mflip\u001b[0;34m(m, axis)\u001b[0m\n\u001b[1;32m    234\u001b[0m         \u001b[0mindexer\u001b[0m \u001b[0;34m=\u001b[0m \u001b[0;34m(\u001b[0m\u001b[0mnp\u001b[0m\u001b[0;34m.\u001b[0m\u001b[0ms_\u001b[0m\u001b[0;34m[\u001b[0m\u001b[0;34m:\u001b[0m\u001b[0;34m:\u001b[0m\u001b[0;34m-\u001b[0m\u001b[0;36m1\u001b[0m\u001b[0;34m]\u001b[0m\u001b[0;34m,\u001b[0m\u001b[0;34m)\u001b[0m \u001b[0;34m*\u001b[0m \u001b[0mm\u001b[0m\u001b[0;34m.\u001b[0m\u001b[0mndim\u001b[0m\u001b[0;34m\u001b[0m\u001b[0;34m\u001b[0m\u001b[0m\n\u001b[1;32m    235\u001b[0m     \u001b[0;32melse\u001b[0m\u001b[0;34m:\u001b[0m\u001b[0;34m\u001b[0m\u001b[0;34m\u001b[0m\u001b[0m\n\u001b[0;32m--> 236\u001b[0;31m         \u001b[0maxis\u001b[0m \u001b[0;34m=\u001b[0m \u001b[0m_nx\u001b[0m\u001b[0;34m.\u001b[0m\u001b[0mnormalize_axis_tuple\u001b[0m\u001b[0;34m(\u001b[0m\u001b[0maxis\u001b[0m\u001b[0;34m,\u001b[0m \u001b[0mm\u001b[0m\u001b[0;34m.\u001b[0m\u001b[0mndim\u001b[0m\u001b[0;34m)\u001b[0m\u001b[0;34m\u001b[0m\u001b[0;34m\u001b[0m\u001b[0m\n\u001b[0m\u001b[1;32m    237\u001b[0m         \u001b[0mindexer\u001b[0m \u001b[0;34m=\u001b[0m \u001b[0;34m[\u001b[0m\u001b[0mnp\u001b[0m\u001b[0;34m.\u001b[0m\u001b[0ms_\u001b[0m\u001b[0;34m[\u001b[0m\u001b[0;34m:\u001b[0m\u001b[0;34m]\u001b[0m\u001b[0;34m]\u001b[0m \u001b[0;34m*\u001b[0m \u001b[0mm\u001b[0m\u001b[0;34m.\u001b[0m\u001b[0mndim\u001b[0m\u001b[0;34m\u001b[0m\u001b[0;34m\u001b[0m\u001b[0m\n\u001b[1;32m    238\u001b[0m         \u001b[0;32mfor\u001b[0m \u001b[0max\u001b[0m \u001b[0;32min\u001b[0m \u001b[0maxis\u001b[0m\u001b[0;34m:\u001b[0m\u001b[0;34m\u001b[0m\u001b[0;34m\u001b[0m\u001b[0m\n",
      "\u001b[0;32m/usr/local/lib/python3.8/dist-packages/numpy/core/numeric.py\u001b[0m in \u001b[0;36mnormalize_axis_tuple\u001b[0;34m(axis, ndim, argname, allow_duplicate)\u001b[0m\n\u001b[1;32m   1383\u001b[0m             \u001b[0;32mpass\u001b[0m\u001b[0;34m\u001b[0m\u001b[0;34m\u001b[0m\u001b[0m\n\u001b[1;32m   1384\u001b[0m     \u001b[0;31m# Going via an iterator directly is slower than via list comprehension.\u001b[0m\u001b[0;34m\u001b[0m\u001b[0;34m\u001b[0m\u001b[0;34m\u001b[0m\u001b[0m\n\u001b[0;32m-> 1385\u001b[0;31m     \u001b[0maxis\u001b[0m \u001b[0;34m=\u001b[0m \u001b[0mtuple\u001b[0m\u001b[0;34m(\u001b[0m\u001b[0;34m[\u001b[0m\u001b[0mnormalize_axis_index\u001b[0m\u001b[0;34m(\u001b[0m\u001b[0max\u001b[0m\u001b[0;34m,\u001b[0m \u001b[0mndim\u001b[0m\u001b[0;34m,\u001b[0m \u001b[0margname\u001b[0m\u001b[0;34m)\u001b[0m \u001b[0;32mfor\u001b[0m \u001b[0max\u001b[0m \u001b[0;32min\u001b[0m \u001b[0maxis\u001b[0m\u001b[0;34m]\u001b[0m\u001b[0;34m)\u001b[0m\u001b[0;34m\u001b[0m\u001b[0;34m\u001b[0m\u001b[0m\n\u001b[0m\u001b[1;32m   1386\u001b[0m     \u001b[0;32mif\u001b[0m \u001b[0;32mnot\u001b[0m \u001b[0mallow_duplicate\u001b[0m \u001b[0;32mand\u001b[0m \u001b[0mlen\u001b[0m\u001b[0;34m(\u001b[0m\u001b[0mset\u001b[0m\u001b[0;34m(\u001b[0m\u001b[0maxis\u001b[0m\u001b[0;34m)\u001b[0m\u001b[0;34m)\u001b[0m \u001b[0;34m!=\u001b[0m \u001b[0mlen\u001b[0m\u001b[0;34m(\u001b[0m\u001b[0maxis\u001b[0m\u001b[0;34m)\u001b[0m\u001b[0;34m:\u001b[0m\u001b[0;34m\u001b[0m\u001b[0;34m\u001b[0m\u001b[0m\n\u001b[1;32m   1387\u001b[0m         \u001b[0;32mif\u001b[0m \u001b[0margname\u001b[0m\u001b[0;34m:\u001b[0m\u001b[0;34m\u001b[0m\u001b[0;34m\u001b[0m\u001b[0m\n",
      "\u001b[0;32m/usr/local/lib/python3.8/dist-packages/numpy/core/numeric.py\u001b[0m in \u001b[0;36m<listcomp>\u001b[0;34m(.0)\u001b[0m\n\u001b[1;32m   1383\u001b[0m             \u001b[0;32mpass\u001b[0m\u001b[0;34m\u001b[0m\u001b[0;34m\u001b[0m\u001b[0m\n\u001b[1;32m   1384\u001b[0m     \u001b[0;31m# Going via an iterator directly is slower than via list comprehension.\u001b[0m\u001b[0;34m\u001b[0m\u001b[0;34m\u001b[0m\u001b[0;34m\u001b[0m\u001b[0m\n\u001b[0;32m-> 1385\u001b[0;31m     \u001b[0maxis\u001b[0m \u001b[0;34m=\u001b[0m \u001b[0mtuple\u001b[0m\u001b[0;34m(\u001b[0m\u001b[0;34m[\u001b[0m\u001b[0mnormalize_axis_index\u001b[0m\u001b[0;34m(\u001b[0m\u001b[0max\u001b[0m\u001b[0;34m,\u001b[0m \u001b[0mndim\u001b[0m\u001b[0;34m,\u001b[0m \u001b[0margname\u001b[0m\u001b[0;34m)\u001b[0m \u001b[0;32mfor\u001b[0m \u001b[0max\u001b[0m \u001b[0;32min\u001b[0m \u001b[0maxis\u001b[0m\u001b[0;34m]\u001b[0m\u001b[0;34m)\u001b[0m\u001b[0;34m\u001b[0m\u001b[0;34m\u001b[0m\u001b[0m\n\u001b[0m\u001b[1;32m   1386\u001b[0m     \u001b[0;32mif\u001b[0m \u001b[0;32mnot\u001b[0m \u001b[0mallow_duplicate\u001b[0m \u001b[0;32mand\u001b[0m \u001b[0mlen\u001b[0m\u001b[0;34m(\u001b[0m\u001b[0mset\u001b[0m\u001b[0;34m(\u001b[0m\u001b[0maxis\u001b[0m\u001b[0;34m)\u001b[0m\u001b[0;34m)\u001b[0m \u001b[0;34m!=\u001b[0m \u001b[0mlen\u001b[0m\u001b[0;34m(\u001b[0m\u001b[0maxis\u001b[0m\u001b[0;34m)\u001b[0m\u001b[0;34m:\u001b[0m\u001b[0;34m\u001b[0m\u001b[0;34m\u001b[0m\u001b[0m\n\u001b[1;32m   1387\u001b[0m         \u001b[0;32mif\u001b[0m \u001b[0margname\u001b[0m\u001b[0;34m:\u001b[0m\u001b[0;34m\u001b[0m\u001b[0;34m\u001b[0m\u001b[0m\n",
      "\u001b[0;31mAxisError\u001b[0m: axis 1 is out of bounds for array of dimension 1"
     ]
    }
   ],
   "source": [
    "# Example 3 - breaking (to illustrate when it breaks)\n",
    "array = np.array([1,2,3,4,5])\n",
    "flipped_array = np.flip(array, axis=1)\n"
   ]
  },
  {
   "cell_type": "markdown",
   "metadata": {
    "id": "wKz1aDN4oa9T"
   },
   "source": [
    "Trying to flip a dimension that doesn't exist (1D array only has axis=0, since it's a vector) will throw an error."
   ]
  },
  {
   "cell_type": "markdown",
   "metadata": {
    "id": "Z4pCIQxkoa9U"
   },
   "source": [
    "##### It's ready! Rembember to **split** and share your pizza with your friends. Don't be greedy.\n",
    "<img src=\"https://i.imgur.com/AO8NcPz.jpg\"></img>\n",
    "## Function 4 - **np.split**\n",
    "\n",
    "The np.split function is used to split arrays into sub-arrays."
   ]
  },
  {
   "cell_type": "code",
   "execution_count": 43,
   "metadata": {
    "colab": {
     "base_uri": "https://localhost:8080/"
    },
    "id": "I2sSwSmSoa9U",
    "outputId": "50454b63-0555-4a49-fca8-8aab6952b955"
   },
   "outputs": [
    {
     "name": "stdout",
     "output_type": "stream",
     "text": [
      "This is the original array:\n",
      " [0 1 2 3 4 5 6 7 8 9]\n",
      "These are the 2 sub-arrays resulted:\n",
      " [array([0, 1, 2, 3, 4]), array([5, 6, 7, 8, 9])]\n",
      "These are the 5 sub-arrays resulted:\n",
      " [array([0, 1]), array([2, 3]), array([4, 5]), array([6, 7]), array([8, 9])]\n"
     ]
    }
   ],
   "source": [
    "# Example 1 - working\n",
    "array = np.arange(10)\n",
    "print(\"This is the original array:\\n\", array)\n",
    "\n",
    "#splitting into 2 sub arrays\n",
    "splitted_array = np.split(array, 2)\n",
    "print(\"These are the 2 sub-arrays resulted:\\n\", splitted_array)\n",
    "\n",
    "#splitting into 5 sub arrays\n",
    "splitted_array_2 = np.split(array, 5)\n",
    "print(\"These are the 5 sub-arrays resulted:\\n\", splitted_array_2)"
   ]
  },
  {
   "cell_type": "markdown",
   "metadata": {
    "id": "MBprQwuboa9U"
   },
   "source": [
    "In the example above we splitted our original array into a set of 2 and 5 sub-arrays.\n"
   ]
  },
  {
   "cell_type": "code",
   "execution_count": 45,
   "metadata": {
    "colab": {
     "base_uri": "https://localhost:8080/"
    },
    "id": "vuT5xJjxoa9U",
    "outputId": "a7fc200f-9ceb-4944-99a1-43e0275953dd"
   },
   "outputs": [
    {
     "name": "stdout",
     "output_type": "stream",
     "text": [
      "This is the original array:\n",
      " [0 1 2 3 4 5 6 7 8 9]\n",
      "These are the 4 sub-arrawys resulted:\n",
      " [array([0, 1]), array([2, 3, 4, 5]), array([6]), array([7, 8, 9])]\n"
     ]
    }
   ],
   "source": [
    "# Example 2 - working\n",
    "array2 = np.arange(10)\n",
    "print(\"This is the original array:\\n\", array2)\n",
    "\n",
    "#splitting at certain points\n",
    "splitted_array2 = np.split(array, [2,6,7])\n",
    "print(\"These are the 4 sub-arrawys resulted:\\n\", splitted_array2)"
   ]
  },
  {
   "cell_type": "markdown",
   "metadata": {
    "id": "05iVmacPoa9U"
   },
   "source": [
    "It is also possible to split using specific points at which the split must happen. In the example above, we splitted using this range [2,6,7], this is how NumPy did the thing:\n",
    "from the 2nd element to the 6th [exluded],\n",
    "from the 6th to the 6th element [just one],\n",
    "from the 7th to the last element."
   ]
  },
  {
   "cell_type": "code",
   "execution_count": 47,
   "metadata": {
    "colab": {
     "base_uri": "https://localhost:8080/",
     "height": 374
    },
    "id": "n9lB7rasoa9V",
    "outputId": "5cba2be5-ad3e-47b4-dbb1-4607c39f6bfc"
   },
   "outputs": [
    {
     "name": "stdout",
     "output_type": "stream",
     "text": [
      "This is the original array [0 1 2 3 4 5 6 7 8 9]\n"
     ]
    },
    {
     "ename": "ValueError",
     "evalue": "ignored",
     "output_type": "error",
     "traceback": [
      "\u001b[0;31m---------------------------------------------------------------------------\u001b[0m",
      "\u001b[0;31mValueError\u001b[0m                                Traceback (most recent call last)",
      "\u001b[0;32m<ipython-input-47-73ea65a8d4ae>\u001b[0m in \u001b[0;36m<module>\u001b[0;34m\u001b[0m\n\u001b[1;32m      4\u001b[0m \u001b[0;34m\u001b[0m\u001b[0m\n\u001b[1;32m      5\u001b[0m \u001b[0;31m#Splitting\u001b[0m\u001b[0;34m\u001b[0m\u001b[0;34m\u001b[0m\u001b[0;34m\u001b[0m\u001b[0m\n\u001b[0;32m----> 6\u001b[0;31m \u001b[0mbroken_array\u001b[0m \u001b[0;34m=\u001b[0m \u001b[0mnp\u001b[0m\u001b[0;34m.\u001b[0m\u001b[0msplit\u001b[0m\u001b[0;34m(\u001b[0m\u001b[0marray\u001b[0m\u001b[0;34m,\u001b[0m \u001b[0;36m3\u001b[0m\u001b[0;34m)\u001b[0m\u001b[0;34m\u001b[0m\u001b[0;34m\u001b[0m\u001b[0m\n\u001b[0m",
      "\u001b[0;32m<__array_function__ internals>\u001b[0m in \u001b[0;36msplit\u001b[0;34m(*args, **kwargs)\u001b[0m\n",
      "\u001b[0;32m/usr/local/lib/python3.8/dist-packages/numpy/lib/shape_base.py\u001b[0m in \u001b[0;36msplit\u001b[0;34m(ary, indices_or_sections, axis)\u001b[0m\n\u001b[1;32m    870\u001b[0m         \u001b[0mN\u001b[0m \u001b[0;34m=\u001b[0m \u001b[0mary\u001b[0m\u001b[0;34m.\u001b[0m\u001b[0mshape\u001b[0m\u001b[0;34m[\u001b[0m\u001b[0maxis\u001b[0m\u001b[0;34m]\u001b[0m\u001b[0;34m\u001b[0m\u001b[0;34m\u001b[0m\u001b[0m\n\u001b[1;32m    871\u001b[0m         \u001b[0;32mif\u001b[0m \u001b[0mN\u001b[0m \u001b[0;34m%\u001b[0m \u001b[0msections\u001b[0m\u001b[0;34m:\u001b[0m\u001b[0;34m\u001b[0m\u001b[0;34m\u001b[0m\u001b[0m\n\u001b[0;32m--> 872\u001b[0;31m             raise ValueError(\n\u001b[0m\u001b[1;32m    873\u001b[0m                 'array split does not result in an equal division') from None\n\u001b[1;32m    874\u001b[0m     \u001b[0;32mreturn\u001b[0m \u001b[0marray_split\u001b[0m\u001b[0;34m(\u001b[0m\u001b[0mary\u001b[0m\u001b[0;34m,\u001b[0m \u001b[0mindices_or_sections\u001b[0m\u001b[0;34m,\u001b[0m \u001b[0maxis\u001b[0m\u001b[0;34m)\u001b[0m\u001b[0;34m\u001b[0m\u001b[0;34m\u001b[0m\u001b[0m\n",
      "\u001b[0;31mValueError\u001b[0m: array split does not result in an equal division"
     ]
    }
   ],
   "source": [
    "# Example 3 - breaking (to illustrate when it breaks)\n",
    "array = np.arange(10)\n",
    "print(\"This is the original array\", array)\n",
    "\n",
    "#Splitting\n",
    "broken_array = np.split(array, 3)\n"
   ]
  },
  {
   "cell_type": "markdown",
   "metadata": {
    "id": "tyqURYJloa9V"
   },
   "source": [
    "Using the split method showed in the #1 example, it is important to choose a value that will make the divison equal. In this case, diving 10 elements by 3 will result in an error, bececause not all the elements will be equally distribuited. "
   ]
  },
  {
   "cell_type": "markdown",
   "metadata": {
    "id": "7EUUkAxFoa9V"
   },
   "source": [
    "##### And, of course, pizza is never enough. Another round? We could call Just Eat this time, though.\n",
    "<img src=\"https://i.imgur.com/HXsRw9s.jpg\"></img>\n",
    "## Function 5 - **np.repeat**\n",
    "\n",
    "The np.repeat function is used to repeat elements inside an array (along the axis). If the axis is not specified, the function will flatten the original array and will output a flattened array."
   ]
  },
  {
   "cell_type": "code",
   "execution_count": null,
   "metadata": {
    "colab": {
     "base_uri": "https://localhost:8080/"
    },
    "id": "irfVNMKioa9V",
    "outputId": "b1fa983c-37fd-41fc-df34-faf75a50bb26"
   },
   "outputs": [
    {
     "name": "stdout",
     "output_type": "stream",
     "text": [
      "This is the original array:\n",
      " [0 1 2 3 4]\n",
      "This is the repeated array, in which elements have been repeated twice(second parameter inside the function):\n",
      " [0 0 1 1 2 2 3 3 4 4]\n"
     ]
    }
   ],
   "source": [
    "# Example 1 - working\n",
    "\n",
    "#Repeating elements inside a 1D array\n",
    "array = np.arange(5)\n",
    "print(\"This is the original array:\\n\", array)\n",
    "\n",
    "repeated_array = np.repeat(array, 2)\n",
    "print(\"This is the repeated array, in which elements have been repeated twice(second parameter inside the function):\\n\", repeated_array)"
   ]
  },
  {
   "cell_type": "markdown",
   "metadata": {
    "id": "UVMzmwOboa9W"
   },
   "source": [
    "In the example above we repeated elements inside a simple 1D array."
   ]
  },
  {
   "cell_type": "code",
   "execution_count": 37,
   "metadata": {
    "colab": {
     "base_uri": "https://localhost:8080/"
    },
    "id": "QlwUTvkqoa9W",
    "outputId": "6e4848cb-fd51-400d-e0a7-7a29f7d29410"
   },
   "outputs": [
    {
     "name": "stdout",
     "output_type": "stream",
     "text": [
      "This is the original array\n",
      " [[0 1 2]\n",
      " [3 4 5]\n",
      " [6 7 8]]\n",
      "This is the repeated array along axis 0\n",
      " [[0 1 2]\n",
      " [0 1 2]\n",
      " [3 4 5]\n",
      " [3 4 5]\n",
      " [6 7 8]\n",
      " [6 7 8]]\n",
      "This is the repeated array along axis 1\n",
      " [[0 0 1 1 2 2]\n",
      " [3 3 4 4 5 5]\n",
      " [6 6 7 7 8 8]]\n"
     ]
    }
   ],
   "source": [
    "# Example 2 - working\n",
    "array = np.arange(9).reshape(3,3)\n",
    "print(\"This is the original array\\n\",array)\n",
    "\n",
    "#repeating along axis 0 (rows)\n",
    "repeated_array_along_axis0 = np.repeat(array, 2, axis=0)\n",
    "print(\"This is the repeated array along axis 0\\n\", repeated_array_along_axis0)\n",
    "\n",
    "#repeating along axis 1 (columns)\n",
    "repeated_array_along_axis1 = np.repeat(array, 2, axis=1)\n",
    "print(\"This is the repeated array along axis 1\\n\", repeated_array_along_axis1)"
   ]
  },
  {
   "cell_type": "markdown",
   "metadata": {
    "id": "BNt-JSzwoa9W"
   },
   "source": [
    "In the example above, we used the np.repeat function to repeat elements along rows or columns."
   ]
  },
  {
   "cell_type": "code",
   "execution_count": 38,
   "metadata": {
    "colab": {
     "base_uri": "https://localhost:8080/",
     "height": 415
    },
    "id": "OP0QccvJoa9W",
    "outputId": "20dcae47-b308-41d9-bc88-8ac669e621e4"
   },
   "outputs": [
    {
     "name": "stdout",
     "output_type": "stream",
     "text": [
      "This is the original array:\n",
      " [0 1 2 3 4]\n"
     ]
    },
    {
     "ename": "AxisError",
     "evalue": "ignored",
     "output_type": "error",
     "traceback": [
      "\u001b[0;31m---------------------------------------------------------------------------\u001b[0m",
      "\u001b[0;31mAxisError\u001b[0m                                 Traceback (most recent call last)",
      "\u001b[0;32m<ipython-input-38-a80c627d4f21>\u001b[0m in \u001b[0;36m<module>\u001b[0;34m\u001b[0m\n\u001b[1;32m      4\u001b[0m \u001b[0mprint\u001b[0m\u001b[0;34m(\u001b[0m\u001b[0;34m\"This is the original array:\\n\"\u001b[0m\u001b[0;34m,\u001b[0m \u001b[0marray\u001b[0m\u001b[0;34m)\u001b[0m\u001b[0;34m\u001b[0m\u001b[0;34m\u001b[0m\u001b[0m\n\u001b[1;32m      5\u001b[0m \u001b[0;34m\u001b[0m\u001b[0m\n\u001b[0;32m----> 6\u001b[0;31m \u001b[0mrepeated_array_broken\u001b[0m \u001b[0;34m=\u001b[0m \u001b[0mnp\u001b[0m\u001b[0;34m.\u001b[0m\u001b[0mrepeat\u001b[0m\u001b[0;34m(\u001b[0m\u001b[0marray\u001b[0m\u001b[0;34m,\u001b[0m \u001b[0;36m2\u001b[0m\u001b[0;34m,\u001b[0m \u001b[0maxis\u001b[0m\u001b[0;34m=\u001b[0m\u001b[0;36m1\u001b[0m\u001b[0;34m)\u001b[0m\u001b[0;34m\u001b[0m\u001b[0;34m\u001b[0m\u001b[0m\n\u001b[0m",
      "\u001b[0;32m<__array_function__ internals>\u001b[0m in \u001b[0;36mrepeat\u001b[0;34m(*args, **kwargs)\u001b[0m\n",
      "\u001b[0;32m/usr/local/lib/python3.8/dist-packages/numpy/core/fromnumeric.py\u001b[0m in \u001b[0;36mrepeat\u001b[0;34m(a, repeats, axis)\u001b[0m\n\u001b[1;32m    477\u001b[0m \u001b[0;34m\u001b[0m\u001b[0m\n\u001b[1;32m    478\u001b[0m     \"\"\"\n\u001b[0;32m--> 479\u001b[0;31m     \u001b[0;32mreturn\u001b[0m \u001b[0m_wrapfunc\u001b[0m\u001b[0;34m(\u001b[0m\u001b[0ma\u001b[0m\u001b[0;34m,\u001b[0m \u001b[0;34m'repeat'\u001b[0m\u001b[0;34m,\u001b[0m \u001b[0mrepeats\u001b[0m\u001b[0;34m,\u001b[0m \u001b[0maxis\u001b[0m\u001b[0;34m=\u001b[0m\u001b[0maxis\u001b[0m\u001b[0;34m)\u001b[0m\u001b[0;34m\u001b[0m\u001b[0;34m\u001b[0m\u001b[0m\n\u001b[0m\u001b[1;32m    480\u001b[0m \u001b[0;34m\u001b[0m\u001b[0m\n\u001b[1;32m    481\u001b[0m \u001b[0;34m\u001b[0m\u001b[0m\n",
      "\u001b[0;32m/usr/local/lib/python3.8/dist-packages/numpy/core/fromnumeric.py\u001b[0m in \u001b[0;36m_wrapfunc\u001b[0;34m(obj, method, *args, **kwds)\u001b[0m\n\u001b[1;32m     55\u001b[0m \u001b[0;34m\u001b[0m\u001b[0m\n\u001b[1;32m     56\u001b[0m     \u001b[0;32mtry\u001b[0m\u001b[0;34m:\u001b[0m\u001b[0;34m\u001b[0m\u001b[0;34m\u001b[0m\u001b[0m\n\u001b[0;32m---> 57\u001b[0;31m         \u001b[0;32mreturn\u001b[0m \u001b[0mbound\u001b[0m\u001b[0;34m(\u001b[0m\u001b[0;34m*\u001b[0m\u001b[0margs\u001b[0m\u001b[0;34m,\u001b[0m \u001b[0;34m**\u001b[0m\u001b[0mkwds\u001b[0m\u001b[0;34m)\u001b[0m\u001b[0;34m\u001b[0m\u001b[0;34m\u001b[0m\u001b[0m\n\u001b[0m\u001b[1;32m     58\u001b[0m     \u001b[0;32mexcept\u001b[0m \u001b[0mTypeError\u001b[0m\u001b[0;34m:\u001b[0m\u001b[0;34m\u001b[0m\u001b[0;34m\u001b[0m\u001b[0m\n\u001b[1;32m     59\u001b[0m         \u001b[0;31m# A TypeError occurs if the object does have such a method in its\u001b[0m\u001b[0;34m\u001b[0m\u001b[0;34m\u001b[0m\u001b[0;34m\u001b[0m\u001b[0m\n",
      "\u001b[0;31mAxisError\u001b[0m: axis 1 is out of bounds for array of dimension 1"
     ]
    }
   ],
   "source": [
    "# Example 3 - breaking (to illustrate when it breaks)\n",
    "\n",
    "array = np.arange(5)\n",
    "print(\"This is the original array:\\n\", array)\n",
    "\n",
    "repeated_array_broken = np.repeat(array, 2, axis=1)"
   ]
  },
  {
   "cell_type": "markdown",
   "metadata": {
    "id": "uB06RNTkOHW4"
   },
   "source": [
    "Trying to repeat along an axis which isn't supported by the array will throw and error.\n"
   ]
  },
  {
   "cell_type": "markdown",
   "metadata": {
    "id": "5toeYNNAoa9X"
   },
   "source": [
    "## Reference Links\n",
    "Provide links to your references and other interesting articles about Numpy arrays:\n",
    "* Numpy official tutorial : https://numpy.org/doc/stable/user/quickstart.html\n"
   ]
  }
 ],
 "metadata": {
  "colab": {
   "provenance": []
  },
  "kernelspec": {
   "display_name": "Python 3 (ipykernel)",
   "language": "python",
   "name": "python3"
  },
  "language_info": {
   "codemirror_mode": {
    "name": "ipython",
    "version": 3
   },
   "file_extension": ".py",
   "mimetype": "text/x-python",
   "name": "python",
   "nbconvert_exporter": "python",
   "pygments_lexer": "ipython3",
   "version": "3.10.10"
  }
 },
 "nbformat": 4,
 "nbformat_minor": 1
}
